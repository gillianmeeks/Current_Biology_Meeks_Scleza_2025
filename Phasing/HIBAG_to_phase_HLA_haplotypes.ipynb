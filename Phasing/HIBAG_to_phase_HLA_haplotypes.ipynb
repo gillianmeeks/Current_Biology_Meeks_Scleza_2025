{
 "cells": [
  {
   "cell_type": "code",
   "execution_count": 36,
   "id": "e23f2d08-10e8-40dd-a185-9a4c930b4f8e",
   "metadata": {},
   "outputs": [],
   "source": [
    "library(HIBAG)\n",
    "load(\"HLA_IBD_pairs_data.RData\")\n",
    "A_final_sheet <- Final_sheet[,c(2,3:4)]\n",
    "B_final_sheet <- Final_sheet[,c(2,5:6)]\n",
    "C_final_sheet <- Final_sheet[,c(2,7:8)]\n",
    "DPA1_final_sheet <- Final_sheet[,c(2,9:10)]\n",
    "DPB1_final_sheet <- Final_sheet[,c(2,11:12)]\n",
    "DQA1_final_sheet <- Final_sheet[,c(2,13:14)]\n",
    "DQB1_final_sheet <- Final_sheet[,c(2,15:16)]\n",
    "DRB1_final_sheet <- Final_sheet[,c(2,17:18)]\n",
    "final_sheets <- list(\n",
    "  A = A_final_sheet,\n",
    "  B = B_final_sheet,\n",
    "  C = C_final_sheet,\n",
    "  DPA1 = DPA1_final_sheet,\n",
    "  DPB1 = DPB1_final_sheet,\n",
    "  DQA1 = DQA1_final_sheet,\n",
    "  DQB1 = DQB1_final_sheet,\n",
    "  DRB1 = DRB1_final_sheet\n",
    ")\n",
    "\n",
    "# Function to gsub out non-numeric characters from the specified columns\n",
    "clean_columns <- function(df) {\n",
    "  df[, 2] <- gsub(\"DPA1\", \"\", df[, 2])  \n",
    "  df[, 3] <- gsub(\"DPA1\", \"\", df[, 3])\n",
    "  df[, 2] <- gsub(\"DPB1\", \"\", df[, 2])  \n",
    "  df[, 3] <- gsub(\"DPB1\", \"\", df[, 3])\n",
    "  df[, 2] <- gsub(\"DQA1\", \"\", df[, 2])  \n",
    "  df[, 3] <- gsub(\"DQA1\", \"\", df[, 3])\n",
    "  df[, 2] <- gsub(\"DQB1\", \"\", df[, 2])  \n",
    "  df[, 3] <- gsub(\"DQB1\", \"\", df[, 3])\n",
    "  df[, 2] <- gsub(\"DRB1\", \"\", df[, 2])  \n",
    "  df[, 3] <- gsub(\"DRB1\", \"\", df[, 3])\n",
    "  df[, 3] <- gsub(\"[^0-9:]\", \"\", df[, 3])\n",
    "  df[, 2] <- gsub(\"[^0-9:]\", \"\", df[, 2])  # Remove non-numeric characters from the 2nd column\n",
    "  df[, 3] <- gsub(\"[^0-9:]\", \"\", df[, 3])  # Remove non-numeric characters from the 3rd column\n",
    "  return(df)\n",
    "}\n",
    "\n",
    "# Apply the cleaning function to each data frame in the list\n",
    "final_sheets <- lapply(final_sheets, clean_columns)\n",
    "# Set column names for each data frame in final_sheets\n",
    "final_sheets <- lapply(final_sheets, function(df) {\n",
    "  colnames(df) <- c(\"Sample\", \"allele_1\", \"allele_2\")\n",
    "  return(df)\n",
    "})\n",
    "\n",
    "# Unpack the data frames back into individual variables with updated column names\n",
    "A_final_sheet <- final_sheets$A\n",
    "B_final_sheet <- final_sheets$B\n",
    "C_final_sheet <- final_sheets$C\n",
    "DPA1_final_sheet <- final_sheets$DPA1\n",
    "DPB1_final_sheet <- final_sheets$DPB1\n",
    "DQA1_final_sheet <- final_sheets$DQA1\n",
    "DQB1_final_sheet <- final_sheets$DQB1\n",
    "DRB1_final_sheet <- final_sheets$DRB1\n",
    "# Unpack the cleaned data frames back into individual variables\n",
    "A_final_sheet <- final_sheets$A\n",
    "B_final_sheet <- final_sheets$B\n",
    "C_final_sheet <- final_sheets$C\n",
    "DPA1_final_sheet <- final_sheets$DPA1\n",
    "DPB1_final_sheet <- final_sheets$DPB1\n",
    "DQA1_final_sheet <- final_sheets$DQA1\n",
    "DQB1_final_sheet <- final_sheets$DQB1\n",
    "DRB1_final_sheet <- final_sheets$DRB1\n",
    "###separate the Final_sheet into separate dataframes per gene"
   ]
  },
  {
   "cell_type": "code",
   "execution_count": 37,
   "id": "9911b530-41ff-4a68-933a-60cf7db2a26d",
   "metadata": {},
   "outputs": [
    {
     "data": {
      "text/html": [
       "<style>\n",
       ".list-inline {list-style: none; margin:0; padding: 0}\n",
       ".list-inline>li {display: inline-block}\n",
       ".list-inline>li:not(:last-child)::after {content: \"\\00b7\"; padding: 0 .5ex}\n",
       "</style>\n",
       "<ol class=list-inline><li>'A_final_sheet'</li><li>'B_final_sheet'</li><li>'C_final_sheet'</li><li>'clean_columns'</li><li>'DPA1_final_sheet'</li><li>'DPB1_final_sheet'</li><li>'DQA1_final_sheet'</li><li>'DQB1_final_sheet'</li><li>'DRB1_final_sheet'</li><li>'Final_sheet'</li><li>'final_sheets'</li><li>'HLA_IBD_pairs'</li><li>'my_models'</li></ol>\n"
      ],
      "text/latex": [
       "\\begin{enumerate*}\n",
       "\\item 'A\\_final\\_sheet'\n",
       "\\item 'B\\_final\\_sheet'\n",
       "\\item 'C\\_final\\_sheet'\n",
       "\\item 'clean\\_columns'\n",
       "\\item 'DPA1\\_final\\_sheet'\n",
       "\\item 'DPB1\\_final\\_sheet'\n",
       "\\item 'DQA1\\_final\\_sheet'\n",
       "\\item 'DQB1\\_final\\_sheet'\n",
       "\\item 'DRB1\\_final\\_sheet'\n",
       "\\item 'Final\\_sheet'\n",
       "\\item 'final\\_sheets'\n",
       "\\item 'HLA\\_IBD\\_pairs'\n",
       "\\item 'my\\_models'\n",
       "\\end{enumerate*}\n"
      ],
      "text/markdown": [
       "1. 'A_final_sheet'\n",
       "2. 'B_final_sheet'\n",
       "3. 'C_final_sheet'\n",
       "4. 'clean_columns'\n",
       "5. 'DPA1_final_sheet'\n",
       "6. 'DPB1_final_sheet'\n",
       "7. 'DQA1_final_sheet'\n",
       "8. 'DQB1_final_sheet'\n",
       "9. 'DRB1_final_sheet'\n",
       "10. 'Final_sheet'\n",
       "11. 'final_sheets'\n",
       "12. 'HLA_IBD_pairs'\n",
       "13. 'my_models'\n",
       "\n",
       "\n"
      ],
      "text/plain": [
       " [1] \"A_final_sheet\"    \"B_final_sheet\"    \"C_final_sheet\"    \"clean_columns\"   \n",
       " [5] \"DPA1_final_sheet\" \"DPB1_final_sheet\" \"DQA1_final_sheet\" \"DQB1_final_sheet\"\n",
       " [9] \"DRB1_final_sheet\" \"Final_sheet\"      \"final_sheets\"     \"HLA_IBD_pairs\"   \n",
       "[13] \"my_models\"       "
      ]
     },
     "metadata": {},
     "output_type": "display_data"
    },
    {
     "data": {
      "text/plain": [
       "$A\n",
       "Gene: HLA-A\n",
       "Training dataset: 361 samples X 1382 SNPs\n",
       "    # of HLA alleles: 22\n",
       "    # of individual classifiers: 100\n",
       "    total # of SNPs used: 906\n",
       "    avg. # of SNPs in an individual classifier: 25.11\n",
       "        (sd: 3.12, min: 17, max: 34, median: 25.00)\n",
       "    avg. # of haplotypes in an individual classifier: 92.54\n",
       "        (sd: 24.14, min: 56, max: 164, median: 87.00)\n",
       "    avg. out-of-bag accuracy: 97.96%\n",
       "        (sd: 0.94%, min: 95.38%, max: 100.00%, median: 98.05%)\n",
       "Matching proportion:\n",
       "        Min.     0.1% Qu.       1% Qu.      1st Qu.       Median      3rd Qu. \n",
       "2.036825e-10 1.827716e-07 2.853626e-06 9.128843e-04 2.496392e-03 5.364512e-03 \n",
       "        Max.         Mean           SD \n",
       "1.679019e-02 3.557250e-03 3.401964e-03 \n",
       "Genome assembly: hg19\n",
       "\n",
       "$B\n",
       "Gene: HLA-B\n",
       "Training dataset: 361 samples X 1035 SNPs\n",
       "    # of HLA alleles: 23\n",
       "    # of individual classifiers: 100\n",
       "    total # of SNPs used: 732\n",
       "    avg. # of SNPs in an individual classifier: 23.35\n",
       "        (sd: 2.83, min: 17, max: 29, median: 23.00)\n",
       "    avg. # of haplotypes in an individual classifier: 102.04\n",
       "        (sd: 25.92, min: 59, max: 191, median: 98.50)\n",
       "    avg. out-of-bag accuracy: 96.97%\n",
       "        (sd: 0.92%, min: 95.24%, max: 99.59%, median: 96.91%)\n",
       "Matching proportion:\n",
       "        Min.     0.1% Qu.       1% Qu.      1st Qu.       Median      3rd Qu. \n",
       "3.417516e-10 4.589560e-10 6.833459e-06 9.423762e-04 2.216364e-03 4.152828e-03 \n",
       "        Max.         Mean           SD \n",
       "1.317777e-02 3.016165e-03 2.818172e-03 \n",
       "Genome assembly: hg19\n",
       "\n",
       "$C\n",
       "Gene: HLA-C\n",
       "Training dataset: 361 samples X 1095 SNPs\n",
       "    # of HLA alleles: 14\n",
       "    # of individual classifiers: 100\n",
       "    total # of SNPs used: 737\n",
       "    avg. # of SNPs in an individual classifier: 22.57\n",
       "        (sd: 3.58, min: 15, max: 31, median: 22.50)\n",
       "    avg. # of haplotypes in an individual classifier: 86.53\n",
       "        (sd: 23.36, min: 43, max: 171, median: 83.00)\n",
       "    avg. out-of-bag accuracy: 98.60%\n",
       "        (sd: 0.83%, min: 95.39%, max: 100.00%, median: 98.68%)\n",
       "Matching proportion:\n",
       "        Min.     0.1% Qu.       1% Qu.      1st Qu.       Median      3rd Qu. \n",
       "8.990221e-08 1.332449e-07 1.386155e-05 1.024465e-03 2.270464e-03 3.944264e-03 \n",
       "        Max.         Mean           SD \n",
       "1.289192e-02 2.896529e-03 2.468279e-03 \n",
       "Genome assembly: hg19\n",
       "\n",
       "$DPB1\n",
       "Gene: HLA-DPB1\n",
       "Training dataset: 361 samples X 818 SNPs\n",
       "    # of HLA alleles: 13\n",
       "    # of individual classifiers: 100\n",
       "    total # of SNPs used: 673\n",
       "    avg. # of SNPs in an individual classifier: 24.41\n",
       "        (sd: 3.57, min: 17, max: 33, median: 24.00)\n",
       "    avg. # of haplotypes in an individual classifier: 115.87\n",
       "        (sd: 30.65, min: 67, max: 273, median: 110.00)\n",
       "    avg. out-of-bag accuracy: 98.75%\n",
       "        (sd: 0.59%, min: 96.59%, max: 100.00%, median: 98.82%)\n",
       "Matching proportion:\n",
       "        Min.     0.1% Qu.       1% Qu.      1st Qu.       Median      3rd Qu. \n",
       "8.405867e-11 1.338702e-10 8.138233e-10 4.302620e-04 1.259793e-03 2.523066e-03 \n",
       "        Max.         Mean           SD \n",
       "9.803698e-03 1.880498e-03 2.011715e-03 \n",
       "Genome assembly: hg19\n",
       "\n",
       "$DQA1\n",
       "Gene: HLA-DQA1\n",
       "Training dataset: 361 samples X 1205 SNPs\n",
       "    # of HLA alleles: 8\n",
       "    # of individual classifiers: 100\n",
       "    total # of SNPs used: 940\n",
       "    avg. # of SNPs in an individual classifier: 26.14\n",
       "        (sd: 3.42, min: 19, max: 36, median: 26.00)\n",
       "    avg. # of haplotypes in an individual classifier: 132.90\n",
       "        (sd: 40.67, min: 79, max: 313, median: 123.50)\n",
       "    avg. out-of-bag accuracy: 98.73%\n",
       "        (sd: 0.57%, min: 97.16%, max: 99.63%, median: 98.83%)\n",
       "Matching proportion:\n",
       "        Min.     0.1% Qu.       1% Qu.      1st Qu.       Median      3rd Qu. \n",
       "7.841267e-11 4.914766e-08 1.709246e-06 5.077757e-04 1.273769e-03 2.293254e-03 \n",
       "        Max.         Mean           SD \n",
       "8.934831e-03 1.789243e-03 1.846154e-03 \n",
       "Genome assembly: hg19\n",
       "\n",
       "$DQB1\n",
       "Gene: HLA-DQB1\n",
       "Training dataset: 360 samples X 1221 SNPs\n",
       "    # of HLA alleles: 10\n",
       "    # of individual classifiers: 100\n",
       "    total # of SNPs used: 903\n",
       "    avg. # of SNPs in an individual classifier: 25.39\n",
       "        (sd: 3.65, min: 17, max: 36, median: 25.00)\n",
       "    avg. # of haplotypes in an individual classifier: 126.55\n",
       "        (sd: 28.43, min: 71, max: 187, median: 126.00)\n",
       "    avg. out-of-bag accuracy: 98.75%\n",
       "        (sd: 0.62%, min: 96.62%, max: 100.00%, median: 98.85%)\n",
       "Matching proportion:\n",
       "        Min.     0.1% Qu.       1% Qu.      1st Qu.       Median      3rd Qu. \n",
       "3.364554e-10 6.982066e-10 2.547342e-06 4.861861e-04 1.329196e-03 2.355844e-03 \n",
       "        Max.         Mean           SD \n",
       "1.026484e-02 1.853430e-03 1.961130e-03 \n",
       "Genome assembly: hg19\n",
       "\n",
       "$DRB1\n",
       "Gene: HLA-DRB1\n",
       "Training dataset: 361 samples X 1152 SNPs\n",
       "    # of HLA alleles: 18\n",
       "    # of individual classifiers: 100\n",
       "    total # of SNPs used: 884\n",
       "    avg. # of SNPs in an individual classifier: 26.38\n",
       "        (sd: 3.42, min: 18, max: 37, median: 26.00)\n",
       "    avg. # of haplotypes in an individual classifier: 138.02\n",
       "        (sd: 34.06, min: 74, max: 234, median: 128.50)\n",
       "    avg. out-of-bag accuracy: 97.66%\n",
       "        (sd: 0.91%, min: 95.62%, max: 99.25%, median: 97.68%)\n",
       "Matching proportion:\n",
       "        Min.     0.1% Qu.       1% Qu.      1st Qu.       Median      3rd Qu. \n",
       "8.361444e-11 1.546822e-10 9.992735e-10 4.558763e-04 1.197696e-03 2.124970e-03 \n",
       "        Max.         Mean           SD \n",
       "9.102037e-03 1.686464e-03 1.783404e-03 \n",
       "Genome assembly: hg19\n"
      ]
     },
     "metadata": {},
     "output_type": "display_data"
    }
   ],
   "source": [
    "load(\"hibag_himba_models.RData\")\n",
    "ls()\n",
    "my_models"
   ]
  },
  {
   "cell_type": "code",
   "execution_count": 38,
   "id": "b4f7c39c-8621-43f6-b01a-b9b3b9e05a42",
   "metadata": {},
   "outputs": [
    {
     "name": "stderr",
     "output_type": "stream",
     "text": [
      "using the default genome assembly (assembly=\"hg19\")\n",
      "\n"
     ]
    },
    {
     "name": "stdout",
     "output_type": "stream",
     "text": [
      "Open '../chr6_homozygous_first.bed' (the SNP-major mode)\n",
      "Open '../chr6_homozygous_first.fam'\n",
      "Open '../chr6_homozygous_first.bim'\n",
      "Import 4752 SNPs within the xMHC region on chromosome 6\n",
      "HIBAG model for HLA-A:\n",
      "    100 individual classifiers\n",
      "    1382 SNPs\n",
      "    22 unique HLA alleles: 01:01, 02:01, 02:02, ...\n",
      "Prediction:\n",
      "    based on the averaged posterior probabilities\n",
      "Model assembly: hg19, SNP assembly: hg19\n",
      "Matching the SNPs between the model and the test data:\n",
      "    match.type=\"--\"   missing SNPs #                \n",
      "           Position         0 (0.0%) *being used [1]\n",
      "         Pos+Allele         7 (0.5%)             [2]\n",
      "    RefSNP+Position         0 (0.0%)                \n",
      "             RefSNP         0 (0.0%)                \n",
      "      [1]: useful if ambiguous strands on array-based platforms\n",
      "      [2]: suggested if the model and test data have been matched to the same reference genome\n",
      "    Model platform: not applicable\n",
      "# of SNP loci with flipped alleles: 7\n",
      "# of samples: 681\n",
      "CPU flags: 64-bit, AVX\n",
      "# of threads: 1\n",
      "Predicting (2025-05-09 15:14:01)\t0%\n",
      "Predicting (2025-05-09 15:14:03)\t100%\n"
     ]
    },
    {
     "name": "stderr",
     "output_type": "stream",
     "text": [
      "using the default genome assembly (assembly=\"hg19\")\n",
      "\n"
     ]
    },
    {
     "name": "stdout",
     "output_type": "stream",
     "text": [
      "Open '../chr6_homozygous_second.bed' (the SNP-major mode)\n",
      "Open '../chr6_homozygous_second.fam'\n",
      "Open '../chr6_homozygous_second.bim'\n",
      "Import 4752 SNPs within the xMHC region on chromosome 6\n",
      "HIBAG model for HLA-A:\n",
      "    100 individual classifiers\n",
      "    1382 SNPs\n",
      "    22 unique HLA alleles: 01:01, 02:01, 02:02, ...\n",
      "Prediction:\n",
      "    based on the averaged posterior probabilities\n",
      "Model assembly: hg19, SNP assembly: hg19\n",
      "Matching the SNPs between the model and the test data:\n",
      "    match.type=\"--\"   missing SNPs #                \n",
      "           Position         0 (0.0%) *being used [1]\n",
      "         Pos+Allele        20 (1.4%)             [2]\n",
      "    RefSNP+Position         0 (0.0%)                \n",
      "             RefSNP         0 (0.0%)                \n",
      "      [1]: useful if ambiguous strands on array-based platforms\n",
      "      [2]: suggested if the model and test data have been matched to the same reference genome\n",
      "    Model platform: not applicable\n",
      "# of SNP loci with flipped alleles: 20\n",
      "# of samples: 681\n",
      "CPU flags: 64-bit, AVX\n",
      "# of threads: 1\n",
      "Predicting (2025-05-09 15:14:03)\t0%\n",
      "Predicting (2025-05-09 15:14:05)\t100%\n"
     ]
    },
    {
     "name": "stderr",
     "output_type": "stream",
     "text": [
      "using the default genome assembly (assembly=\"hg19\")\n",
      "\n"
     ]
    },
    {
     "name": "stdout",
     "output_type": "stream",
     "text": [
      "Open '../chr6_homozygous_first.bed' (the SNP-major mode)\n",
      "Open '../chr6_homozygous_first.fam'\n",
      "Open '../chr6_homozygous_first.bim'\n",
      "Import 4752 SNPs within the xMHC region on chromosome 6\n",
      "HIBAG model for HLA-B:\n",
      "    100 individual classifiers\n",
      "    1035 SNPs\n",
      "    23 unique HLA alleles: 07:02, 08:01, 13:02, ...\n",
      "Prediction:\n",
      "    based on the averaged posterior probabilities\n",
      "Model assembly: hg19, SNP assembly: hg19\n",
      "Matching the SNPs between the model and the test data:\n",
      "    match.type=\"--\"   missing SNPs #                \n",
      "           Position         0 (0.0%) *being used [1]\n",
      "         Pos+Allele         8 (0.8%)             [2]\n",
      "    RefSNP+Position         0 (0.0%)                \n",
      "             RefSNP         0 (0.0%)                \n",
      "      [1]: useful if ambiguous strands on array-based platforms\n",
      "      [2]: suggested if the model and test data have been matched to the same reference genome\n",
      "    Model platform: not applicable\n",
      "# of SNP loci with flipped alleles: 8\n",
      "# of samples: 681\n",
      "CPU flags: 64-bit, AVX\n",
      "# of threads: 1\n",
      "Predicting (2025-05-09 15:14:05)\t0%\n",
      "Predicting (2025-05-09 15:14:08)\t100%\n"
     ]
    },
    {
     "name": "stderr",
     "output_type": "stream",
     "text": [
      "using the default genome assembly (assembly=\"hg19\")\n",
      "\n"
     ]
    },
    {
     "name": "stdout",
     "output_type": "stream",
     "text": [
      "Open '../chr6_homozygous_second.bed' (the SNP-major mode)\n",
      "Open '../chr6_homozygous_second.fam'\n",
      "Open '../chr6_homozygous_second.bim'\n",
      "Import 4752 SNPs within the xMHC region on chromosome 6\n",
      "HIBAG model for HLA-B:\n",
      "    100 individual classifiers\n",
      "    1035 SNPs\n",
      "    23 unique HLA alleles: 07:02, 08:01, 13:02, ...\n",
      "Prediction:\n",
      "    based on the averaged posterior probabilities\n",
      "Model assembly: hg19, SNP assembly: hg19\n",
      "Matching the SNPs between the model and the test data:\n",
      "    match.type=\"--\"   missing SNPs #                \n",
      "           Position         0 (0.0%) *being used [1]\n",
      "         Pos+Allele         7 (0.7%)             [2]\n",
      "    RefSNP+Position         0 (0.0%)                \n",
      "             RefSNP         0 (0.0%)                \n",
      "      [1]: useful if ambiguous strands on array-based platforms\n",
      "      [2]: suggested if the model and test data have been matched to the same reference genome\n",
      "    Model platform: not applicable\n",
      "# of SNP loci with flipped alleles: 7\n",
      "# of samples: 681\n",
      "CPU flags: 64-bit, AVX\n",
      "# of threads: 1\n",
      "Predicting (2025-05-09 15:14:08)\t0%\n",
      "Predicting (2025-05-09 15:14:10)\t100%\n"
     ]
    },
    {
     "name": "stderr",
     "output_type": "stream",
     "text": [
      "using the default genome assembly (assembly=\"hg19\")\n",
      "\n"
     ]
    },
    {
     "name": "stdout",
     "output_type": "stream",
     "text": [
      "Open '../chr6_homozygous_first.bed' (the SNP-major mode)\n",
      "Open '../chr6_homozygous_first.fam'\n",
      "Open '../chr6_homozygous_first.bim'\n",
      "Import 4752 SNPs within the xMHC region on chromosome 6\n",
      "HIBAG model for HLA-C:\n",
      "    100 individual classifiers\n",
      "    1095 SNPs\n",
      "    14 unique HLA alleles: 02:02, 03:04, 04:01, ...\n",
      "Prediction:\n",
      "    based on the averaged posterior probabilities\n",
      "Model assembly: hg19, SNP assembly: hg19\n",
      "Matching the SNPs between the model and the test data:\n",
      "    match.type=\"--\"   missing SNPs #                \n",
      "           Position         0 (0.0%) *being used [1]\n",
      "         Pos+Allele         8 (0.7%)             [2]\n",
      "    RefSNP+Position         0 (0.0%)                \n",
      "             RefSNP         0 (0.0%)                \n",
      "      [1]: useful if ambiguous strands on array-based platforms\n",
      "      [2]: suggested if the model and test data have been matched to the same reference genome\n",
      "    Model platform: not applicable\n",
      "# of SNP loci with flipped alleles: 8\n",
      "# of samples: 681\n",
      "CPU flags: 64-bit, AVX\n",
      "# of threads: 1\n",
      "Predicting (2025-05-09 15:14:10)\t0%\n",
      "Predicting (2025-05-09 15:14:12)\t100%\n"
     ]
    },
    {
     "name": "stderr",
     "output_type": "stream",
     "text": [
      "using the default genome assembly (assembly=\"hg19\")\n",
      "\n"
     ]
    },
    {
     "name": "stdout",
     "output_type": "stream",
     "text": [
      "Open '../chr6_homozygous_second.bed' (the SNP-major mode)\n",
      "Open '../chr6_homozygous_second.fam'\n",
      "Open '../chr6_homozygous_second.bim'\n",
      "Import 4752 SNPs within the xMHC region on chromosome 6\n",
      "HIBAG model for HLA-C:\n",
      "    100 individual classifiers\n",
      "    1095 SNPs\n",
      "    14 unique HLA alleles: 02:02, 03:04, 04:01, ...\n",
      "Prediction:\n",
      "    based on the averaged posterior probabilities\n",
      "Model assembly: hg19, SNP assembly: hg19\n",
      "Matching the SNPs between the model and the test data:\n",
      "    match.type=\"--\"   missing SNPs #                \n",
      "           Position         0 (0.0%) *being used [1]\n",
      "         Pos+Allele         8 (0.7%)             [2]\n",
      "    RefSNP+Position         0 (0.0%)                \n",
      "             RefSNP         0 (0.0%)                \n",
      "      [1]: useful if ambiguous strands on array-based platforms\n",
      "      [2]: suggested if the model and test data have been matched to the same reference genome\n",
      "    Model platform: not applicable\n",
      "# of SNP loci with flipped alleles: 8\n",
      "# of samples: 681\n",
      "CPU flags: 64-bit, AVX\n",
      "# of threads: 1\n",
      "Predicting (2025-05-09 15:14:12)\t0%\n",
      "Predicting (2025-05-09 15:14:13)\t100%\n"
     ]
    },
    {
     "name": "stderr",
     "output_type": "stream",
     "text": [
      "using the default genome assembly (assembly=\"hg19\")\n",
      "\n"
     ]
    },
    {
     "name": "stdout",
     "output_type": "stream",
     "text": [
      "Open '../chr6_homozygous_first.bed' (the SNP-major mode)\n",
      "Open '../chr6_homozygous_first.fam'\n",
      "Open '../chr6_homozygous_first.bim'\n",
      "Import 4752 SNPs within the xMHC region on chromosome 6\n",
      "HIBAG model for HLA-DPB1:\n",
      "    100 individual classifiers\n",
      "    818 SNPs\n",
      "    13 unique HLA alleles: 01:01, 02:01, 03:01, ...\n",
      "Prediction:\n",
      "    based on the averaged posterior probabilities\n",
      "Model assembly: hg19, SNP assembly: hg19\n",
      "Matching the SNPs between the model and the test data:\n",
      "    match.type=\"--\"   missing SNPs #                \n",
      "           Position         0 (0.0%) *being used [1]\n",
      "         Pos+Allele         5 (0.6%)             [2]\n",
      "    RefSNP+Position         0 (0.0%)                \n",
      "             RefSNP         0 (0.0%)                \n",
      "      [1]: useful if ambiguous strands on array-based platforms\n",
      "      [2]: suggested if the model and test data have been matched to the same reference genome\n",
      "    Model platform: not applicable\n",
      "# of SNP loci with flipped alleles: 5\n",
      "# of samples: 681\n",
      "CPU flags: 64-bit, AVX\n",
      "# of threads: 1\n",
      "Predicting (2025-05-09 15:14:13)\t0%\n",
      "Predicting (2025-05-09 15:14:15)\t100%\n"
     ]
    },
    {
     "name": "stderr",
     "output_type": "stream",
     "text": [
      "using the default genome assembly (assembly=\"hg19\")\n",
      "\n"
     ]
    },
    {
     "name": "stdout",
     "output_type": "stream",
     "text": [
      "Open '../chr6_homozygous_second.bed' (the SNP-major mode)\n",
      "Open '../chr6_homozygous_second.fam'\n",
      "Open '../chr6_homozygous_second.bim'\n",
      "Import 4752 SNPs within the xMHC region on chromosome 6\n",
      "HIBAG model for HLA-DPB1:\n",
      "    100 individual classifiers\n",
      "    818 SNPs\n",
      "    13 unique HLA alleles: 01:01, 02:01, 03:01, ...\n",
      "Prediction:\n",
      "    based on the averaged posterior probabilities\n",
      "Model assembly: hg19, SNP assembly: hg19\n",
      "Matching the SNPs between the model and the test data:\n",
      "    match.type=\"--\"   missing SNPs #                \n",
      "           Position         0 (0.0%) *being used [1]\n",
      "         Pos+Allele         3 (0.4%)             [2]\n",
      "    RefSNP+Position         0 (0.0%)                \n",
      "             RefSNP         0 (0.0%)                \n",
      "      [1]: useful if ambiguous strands on array-based platforms\n",
      "      [2]: suggested if the model and test data have been matched to the same reference genome\n",
      "    Model platform: not applicable\n",
      "# of SNP loci with flipped alleles: 3\n",
      "# of samples: 681\n",
      "CPU flags: 64-bit, AVX\n",
      "# of threads: 1\n",
      "Predicting (2025-05-09 15:14:15)\t0%\n",
      "Predicting (2025-05-09 15:14:17)\t100%\n"
     ]
    },
    {
     "name": "stderr",
     "output_type": "stream",
     "text": [
      "using the default genome assembly (assembly=\"hg19\")\n",
      "\n"
     ]
    },
    {
     "name": "stdout",
     "output_type": "stream",
     "text": [
      "Open '../chr6_homozygous_first.bed' (the SNP-major mode)\n",
      "Open '../chr6_homozygous_first.fam'\n",
      "Open '../chr6_homozygous_first.bim'\n",
      "Import 4752 SNPs within the xMHC region on chromosome 6\n",
      "HIBAG model for HLA-DQA1:\n",
      "    100 individual classifiers\n",
      "    1205 SNPs\n",
      "    8 unique HLA alleles: 01:01, 01:02, 01:03, ...\n",
      "Prediction:\n",
      "    based on the averaged posterior probabilities\n",
      "Model assembly: hg19, SNP assembly: hg19\n",
      "Matching the SNPs between the model and the test data:\n",
      "    match.type=\"--\"   missing SNPs #                \n",
      "           Position         0 (0.0%) *being used [1]\n",
      "         Pos+Allele         7 (0.6%)             [2]\n",
      "    RefSNP+Position         0 (0.0%)                \n",
      "             RefSNP         0 (0.0%)                \n",
      "      [1]: useful if ambiguous strands on array-based platforms\n",
      "      [2]: suggested if the model and test data have been matched to the same reference genome\n",
      "    Model platform: not applicable\n",
      "# of SNP loci with flipped alleles: 7\n",
      "# of samples: 681\n",
      "CPU flags: 64-bit, AVX\n",
      "# of threads: 1\n",
      "Predicting (2025-05-09 15:14:18)\t0%\n",
      "Predicting (2025-05-09 15:14:20)\t100%\n"
     ]
    },
    {
     "name": "stderr",
     "output_type": "stream",
     "text": [
      "using the default genome assembly (assembly=\"hg19\")\n",
      "\n"
     ]
    },
    {
     "name": "stdout",
     "output_type": "stream",
     "text": [
      "Open '../chr6_homozygous_second.bed' (the SNP-major mode)\n",
      "Open '../chr6_homozygous_second.fam'\n",
      "Open '../chr6_homozygous_second.bim'\n",
      "Import 4752 SNPs within the xMHC region on chromosome 6\n",
      "HIBAG model for HLA-DQA1:\n",
      "    100 individual classifiers\n",
      "    1205 SNPs\n",
      "    8 unique HLA alleles: 01:01, 01:02, 01:03, ...\n",
      "Prediction:\n",
      "    based on the averaged posterior probabilities\n",
      "Model assembly: hg19, SNP assembly: hg19\n",
      "Matching the SNPs between the model and the test data:\n",
      "    match.type=\"--\"   missing SNPs #                \n",
      "           Position         0 (0.0%) *being used [1]\n",
      "         Pos+Allele         2 (0.2%)             [2]\n",
      "    RefSNP+Position         0 (0.0%)                \n",
      "             RefSNP         0 (0.0%)                \n",
      "      [1]: useful if ambiguous strands on array-based platforms\n",
      "      [2]: suggested if the model and test data have been matched to the same reference genome\n",
      "    Model platform: not applicable\n",
      "# of SNP loci with flipped alleles: 2\n",
      "# of samples: 681\n",
      "CPU flags: 64-bit, AVX\n",
      "# of threads: 1\n",
      "Predicting (2025-05-09 15:14:20)\t0%\n",
      "Predicting (2025-05-09 15:14:22)\t100%\n"
     ]
    },
    {
     "name": "stderr",
     "output_type": "stream",
     "text": [
      "using the default genome assembly (assembly=\"hg19\")\n",
      "\n"
     ]
    },
    {
     "name": "stdout",
     "output_type": "stream",
     "text": [
      "Open '../chr6_homozygous_first.bed' (the SNP-major mode)\n",
      "Open '../chr6_homozygous_first.fam'\n",
      "Open '../chr6_homozygous_first.bim'\n",
      "Import 4752 SNPs within the xMHC region on chromosome 6\n",
      "HIBAG model for HLA-DQB1:\n",
      "    100 individual classifiers\n",
      "    1221 SNPs\n",
      "    10 unique HLA alleles: 02:01, 03:01, 03:02, ...\n",
      "Prediction:\n",
      "    based on the averaged posterior probabilities\n",
      "Model assembly: hg19, SNP assembly: hg19\n",
      "Matching the SNPs between the model and the test data:\n",
      "    match.type=\"--\"   missing SNPs #                \n",
      "           Position         0 (0.0%) *being used [1]\n",
      "         Pos+Allele         7 (0.6%)             [2]\n",
      "    RefSNP+Position         0 (0.0%)                \n",
      "             RefSNP         0 (0.0%)                \n",
      "      [1]: useful if ambiguous strands on array-based platforms\n",
      "      [2]: suggested if the model and test data have been matched to the same reference genome\n",
      "    Model platform: not applicable\n",
      "# of SNP loci with flipped alleles: 7\n",
      "# of samples: 681\n",
      "CPU flags: 64-bit, AVX\n",
      "# of threads: 1\n",
      "Predicting (2025-05-09 15:14:23)\t0%\n",
      "Predicting (2025-05-09 15:14:25)\t100%\n"
     ]
    },
    {
     "name": "stderr",
     "output_type": "stream",
     "text": [
      "using the default genome assembly (assembly=\"hg19\")\n",
      "\n"
     ]
    },
    {
     "name": "stdout",
     "output_type": "stream",
     "text": [
      "Open '../chr6_homozygous_second.bed' (the SNP-major mode)\n",
      "Open '../chr6_homozygous_second.fam'\n",
      "Open '../chr6_homozygous_second.bim'\n",
      "Import 4752 SNPs within the xMHC region on chromosome 6\n",
      "HIBAG model for HLA-DQB1:\n",
      "    100 individual classifiers\n",
      "    1221 SNPs\n",
      "    10 unique HLA alleles: 02:01, 03:01, 03:02, ...\n",
      "Prediction:\n",
      "    based on the averaged posterior probabilities\n",
      "Model assembly: hg19, SNP assembly: hg19\n",
      "Matching the SNPs between the model and the test data:\n",
      "    match.type=\"--\"   missing SNPs #                \n",
      "           Position         0 (0.0%) *being used [1]\n",
      "         Pos+Allele         2 (0.2%)             [2]\n",
      "    RefSNP+Position         0 (0.0%)                \n",
      "             RefSNP         0 (0.0%)                \n",
      "      [1]: useful if ambiguous strands on array-based platforms\n",
      "      [2]: suggested if the model and test data have been matched to the same reference genome\n",
      "    Model platform: not applicable\n",
      "# of SNP loci with flipped alleles: 2\n",
      "# of samples: 681\n",
      "CPU flags: 64-bit, AVX\n",
      "# of threads: 1\n",
      "Predicting (2025-05-09 15:14:25)\t0%\n",
      "Predicting (2025-05-09 15:14:27)\t100%\n"
     ]
    },
    {
     "name": "stderr",
     "output_type": "stream",
     "text": [
      "using the default genome assembly (assembly=\"hg19\")\n",
      "\n"
     ]
    },
    {
     "name": "stdout",
     "output_type": "stream",
     "text": [
      "Open '../chr6_homozygous_first.bed' (the SNP-major mode)\n",
      "Open '../chr6_homozygous_first.fam'\n",
      "Open '../chr6_homozygous_first.bim'\n",
      "Import 4752 SNPs within the xMHC region on chromosome 6\n",
      "HIBAG model for HLA-DRB1:\n",
      "    100 individual classifiers\n",
      "    1152 SNPs\n",
      "    18 unique HLA alleles: 01:01, 01:02, 03:01, ...\n",
      "Prediction:\n",
      "    based on the averaged posterior probabilities\n",
      "Model assembly: hg19, SNP assembly: hg19\n",
      "Matching the SNPs between the model and the test data:\n",
      "    match.type=\"--\"   missing SNPs #                \n",
      "           Position         0 (0.0%) *being used [1]\n",
      "         Pos+Allele         7 (0.6%)             [2]\n",
      "    RefSNP+Position         0 (0.0%)                \n",
      "             RefSNP         0 (0.0%)                \n",
      "      [1]: useful if ambiguous strands on array-based platforms\n",
      "      [2]: suggested if the model and test data have been matched to the same reference genome\n",
      "    Model platform: not applicable\n",
      "# of SNP loci with flipped alleles: 7\n",
      "# of samples: 681\n",
      "CPU flags: 64-bit, AVX\n",
      "# of threads: 1\n",
      "Predicting (2025-05-09 15:14:27)\t0%\n",
      "Predicting (2025-05-09 15:14:30)\t100%\n"
     ]
    },
    {
     "name": "stderr",
     "output_type": "stream",
     "text": [
      "using the default genome assembly (assembly=\"hg19\")\n",
      "\n"
     ]
    },
    {
     "name": "stdout",
     "output_type": "stream",
     "text": [
      "Open '../chr6_homozygous_second.bed' (the SNP-major mode)\n",
      "Open '../chr6_homozygous_second.fam'\n",
      "Open '../chr6_homozygous_second.bim'\n",
      "Import 4752 SNPs within the xMHC region on chromosome 6\n",
      "HIBAG model for HLA-DRB1:\n",
      "    100 individual classifiers\n",
      "    1152 SNPs\n",
      "    18 unique HLA alleles: 01:01, 01:02, 03:01, ...\n",
      "Prediction:\n",
      "    based on the averaged posterior probabilities\n",
      "Model assembly: hg19, SNP assembly: hg19\n",
      "Matching the SNPs between the model and the test data:\n",
      "    match.type=\"--\"   missing SNPs #                \n",
      "           Position         0 (0.0%) *being used [1]\n",
      "         Pos+Allele         2 (0.2%)             [2]\n",
      "    RefSNP+Position         0 (0.0%)                \n",
      "             RefSNP         0 (0.0%)                \n",
      "      [1]: useful if ambiguous strands on array-based platforms\n",
      "      [2]: suggested if the model and test data have been matched to the same reference genome\n",
      "    Model platform: not applicable\n",
      "# of SNP loci with flipped alleles: 2\n",
      "# of samples: 681\n",
      "CPU flags: 64-bit, AVX\n",
      "# of threads: 1\n",
      "Predicting (2025-05-09 15:14:30)\t0%\n",
      "Predicting (2025-05-09 15:14:33)\t100%\n"
     ]
    }
   ],
   "source": [
    "\n",
    "###load in the hibag models and the pseduo homozygous genotypes from phased data\n",
    "model.list <- my_models\n",
    "for(locus in c(\"A\", \"B\", \"C\", \"DPB1\", \"DQA1\", \"DQB1\", \"DRB1\")){\n",
    "\n",
    "hla.id <- locus\n",
    "model <- hlaModelFromObj(model.list[[hla.id]])\n",
    "\n",
    "###haplotype 1\n",
    "yourgeno <- hlaBED2Geno(bed.fn=\"../chr6_homozygous_first.bed\",\n",
    "                        fam.fn=\"../chr6_homozygous_first.fam\",\n",
    "                        bim.fn=\"../chr6_homozygous_first.bim\")\n",
    "# best-guess genotypes and all posterior probabilities\n",
    "pred.guess <- hlaPredict(model, yourgeno, type=\"response+prob\")\n",
    "prob <- pred.guess$value\n",
    "\n",
    "prob$sample.id <-gsub(\"-[0-9]\", \"\", prob$sample.id )\n",
    "prob$sample.id <- as.character(as.numeric(gsub(\"[^0-9]\", \"\", prob$sample.id)))\n",
    "\n",
    "\n",
    "###haplotype 2\n",
    "yourgeno <- hlaBED2Geno(bed.fn=\"../chr6_homozygous_second.bed\",\n",
    "                        fam.fn=\"../chr6_homozygous_second.fam\",\n",
    "                        bim.fn=\"../chr6_homozygous_second.bim\")\n",
    "# best-guess genotypes and all posterior probabilities\n",
    "pred.guess <- hlaPredict(model, yourgeno, type=\"response+prob\")\n",
    "prob2 <- pred.guess$value\n",
    "prob2$sample.id <-gsub(\"-[0-9]\", \"\", prob2$sample.id )\n",
    "prob2$sample.id <- as.character(as.numeric(gsub(\"[^0-9]\", \"\", prob2$sample.id)))\n",
    "\n",
    "##################################\n",
    "final_sheet <- get(paste0(locus, \"_final_sheet\")) ##get locus specific final sheet with known omixon allele calls\n",
    "    \n",
    "prob <- prob[prob$sample.id %in% final_sheet$Sample, ]\n",
    "\n",
    "#get phased imputed allele 1 from prob    \n",
    "full <- prob[,c(\"sample.id\", \"allele1\")]\n",
    "\n",
    "#get phased imputed allele 2 from prob    \n",
    "full$allele2 <- ifelse(full$sample.id %in% prob2$sample.id,\n",
    "                    prob2$allele1[match(full$sample.id, prob2$sample.id)], NA)\n",
    "\n",
    "full$known_1 <- ifelse(full$sample.id %in% final_sheet$Sample,\n",
    "                        final_sheet$allele_1[match(full$sample.id, final_sheet$Sample)],\n",
    "                        NA)  \n",
    "\n",
    "full$known_2 <- ifelse(full$sample.id %in% final_sheet$Sample,\n",
    "                        final_sheet$allele_2[match(full$sample.id, final_sheet$Sample)],\n",
    "                        NA)  \n",
    "#check if imputed allele1 and allele2 is in known or 1 or 2 \n",
    "full$match_flag_1 <- ifelse(full$allele1 == full$known_1 | full$allele1 == full$known_2, 1, 0)\n",
    "full$match_flag_2 <- ifelse(full$allele2 == full$known_1 | full$allele2 == full$known_2, 1, 0)\n",
    "\n",
    "full$no_match <- ifelse(full$match_flag_1 == 0 & full$match_flag_2 == 0 , 1, 0)\n",
    "table(full$no_match)\n",
    "    \n",
    "full$phased_allele_1 <- ifelse(full$allele1 == full$known_1, \n",
    "                                full$known_1, \n",
    "                                ifelse(full$allele1 == full$known_2, \n",
    "                                       full$known_2, \n",
    "                                       0))\n",
    "\n",
    "full$phased_allele_2 <- ifelse(full$allele2 == full$known_1, \n",
    "                                full$known_1, \n",
    "                                ifelse(full$allele2 == full$known_2, \n",
    "                                       full$known_2, \n",
    "                                       0))\n",
    "\n",
    "\n",
    "\n",
    "\n",
    "    \n",
    "    \n",
    "assign(paste0(locus, \"_haps\"), full)\n",
    "}"
   ]
  },
  {
   "cell_type": "code",
   "execution_count": 39,
   "id": "74032540-f8fd-4d85-9fba-69296969bafe",
   "metadata": {},
   "outputs": [],
   "source": [
    "hap_data_frames <- list(A_haps, B_haps, C_haps, DPB1_haps, DQA1_haps, DQB1_haps, DRB1_haps)\n",
    "hap_data_frames <- lapply(hap_data_frames, function(df) {\n",
    "    df$allele1 <- gsub(\"P\", \"\", df$allele1)  # Remove \"P\" from allele1\n",
    "    df$allele2 <- gsub(\"P\", \"\", df$allele2)  # Remove \"P\" from allele2\n",
    "    return(df)  # Return the modified data frame\n",
    "})\n",
    "\n",
    "#hap_data_frames the dataframes with the best predicted alleles from the phased genotype data (from the model trained with the Himba data)\n"
   ]
  },
  {
   "cell_type": "code",
   "execution_count": 40,
   "id": "d7468a65-ae48-4125-a7b9-10c05acd8132",
   "metadata": {
    "scrolled": true
   },
   "outputs": [
    {
     "data": {
      "text/plain": [
       "<environment: R_GlobalEnv>"
      ]
     },
     "metadata": {},
     "output_type": "display_data"
    }
   ],
   "source": [
    "library(dplyr)\n",
    "\n",
    "#This function checks if one of the alleles matched, so if so makes the other the other\n",
    "finalize_haps <- function(df) {\n",
    "    # Check each row using dplyr's rowwise\n",
    "    df <- df %>%\n",
    "        rowwise() %>%\n",
    "        mutate(\n",
    "            # If phased_allele_1 is 0 but phased_allele_2 is not, then assign phased1 as the other known that isn't phased2\n",
    "            phased_allele_1 = ifelse(phased_allele_1 == 0 & phased_allele_2 != 0,\n",
    "                                      ifelse(phased_allele_2 == known_1, known_2,\n",
    "                                             ifelse(phased_allele_2 == known_2, known_1, phased_allele_1)),\n",
    "                                      phased_allele_1),\n",
    "\n",
    "            # If phased_allele_2 is 0 but phased_allele_1 is not, then assign phased2 as the other known that isn't phased1\n",
    "            phased_allele_2 = ifelse(phased_allele_2 == 0 & phased_allele_1 != 0,\n",
    "                                      ifelse(phased_allele_1 == known_1, known_2,\n",
    "                                             ifelse(phased_allele_1 == known_2, known_1, phased_allele_2)),\n",
    "                                      phased_allele_2),\n",
    "\n",
    "            # If both phased alleles are 0 but the known alleles are the same\n",
    "            phased_allele_1 = ifelse(known_1 == known_2,\n",
    "                                      known_1, phased_allele_1),\n",
    "            phased_allele_2 = ifelse(known_1 == known_2,\n",
    "                                      known_1, phased_allele_2)\n",
    "        ) %>%\n",
    "        ungroup() # Ungroup after mutation\n",
    "    \n",
    "    return(df)\n",
    "}\n",
    "\n",
    "# Apply finalize_haps to each data frame\n",
    "finalized_haps <- lapply(hap_data_frames, finalize_haps)\n",
    "\n",
    "# assign the results back to the original variable names\n",
    "list2env(setNames(finalized_haps, c(\"A_haps\", \"B_haps\", \"C_haps\", \"DPB1_haps\", \"DQA1_haps\", \"DQB1_haps\", \"DRB1_haps\")), envir = .GlobalEnv)\n"
   ]
  },
  {
   "cell_type": "code",
   "execution_count": 41,
   "id": "4dde4ff3-10fb-484e-990f-5e7106a5e56f",
   "metadata": {},
   "outputs": [
    {
     "data": {
      "text/plain": [
       "<environment: R_GlobalEnv>"
      ]
     },
     "metadata": {},
     "output_type": "display_data"
    },
    {
     "data": {
      "text/html": [
       "<table class=\"dataframe\">\n",
       "<caption>A tibble: 0 × 11</caption>\n",
       "<thead>\n",
       "\t<tr><th scope=col>sample.id</th><th scope=col>allele1</th><th scope=col>allele2</th><th scope=col>known_1</th><th scope=col>known_2</th><th scope=col>match_flag_1</th><th scope=col>match_flag_2</th><th scope=col>no_match</th><th scope=col>phased_allele_1</th><th scope=col>phased_allele_2</th><th scope=col>missing</th></tr>\n",
       "\t<tr><th scope=col>&lt;chr&gt;</th><th scope=col>&lt;chr&gt;</th><th scope=col>&lt;chr&gt;</th><th scope=col>&lt;chr&gt;</th><th scope=col>&lt;chr&gt;</th><th scope=col>&lt;dbl&gt;</th><th scope=col>&lt;dbl&gt;</th><th scope=col>&lt;dbl&gt;</th><th scope=col>&lt;chr&gt;</th><th scope=col>&lt;chr&gt;</th><th scope=col>&lt;chr&gt;</th></tr>\n",
       "</thead>\n",
       "<tbody>\n",
       "</tbody>\n",
       "</table>\n"
      ],
      "text/latex": [
       "A tibble: 0 × 11\n",
       "\\begin{tabular}{lllllllllll}\n",
       " sample.id & allele1 & allele2 & known\\_1 & known\\_2 & match\\_flag\\_1 & match\\_flag\\_2 & no\\_match & phased\\_allele\\_1 & phased\\_allele\\_2 & missing\\\\\n",
       " <chr> & <chr> & <chr> & <chr> & <chr> & <dbl> & <dbl> & <dbl> & <chr> & <chr> & <chr>\\\\\n",
       "\\hline\n",
       "\\end{tabular}\n"
      ],
      "text/markdown": [
       "\n",
       "A tibble: 0 × 11\n",
       "\n",
       "| sample.id &lt;chr&gt; | allele1 &lt;chr&gt; | allele2 &lt;chr&gt; | known_1 &lt;chr&gt; | known_2 &lt;chr&gt; | match_flag_1 &lt;dbl&gt; | match_flag_2 &lt;dbl&gt; | no_match &lt;dbl&gt; | phased_allele_1 &lt;chr&gt; | phased_allele_2 &lt;chr&gt; | missing &lt;chr&gt; |\n",
       "|---|---|---|---|---|---|---|---|---|---|---|\n",
       "\n"
      ],
      "text/plain": [
       "     sample.id allele1 allele2 known_1 known_2 match_flag_1 match_flag_2\n",
       "     no_match phased_allele_1 phased_allele_2 missing"
      ]
     },
     "metadata": {},
     "output_type": "display_data"
    }
   ],
   "source": [
    "#this function matches the first field for cases where they are still not phased missing ones\n",
    "check_missing_haps <- function(df) {\n",
    "    df <- df %>%\n",
    "        rowwise() %>%\n",
    "        mutate(\n",
    "            missing = ifelse(phased_allele_1 == 0 & phased_allele_2 == 0, \"1\", \"0\"),\n",
    "            # Handle the case when missing is 1 and allele1 and allele2 are not equal, because if equal and still unknown\n",
    "            # that means the true genotype is not homozygous so no way to phase a homozygous predicted genotype\n",
    "            #check if allele 1 matches first field of known1\n",
    "            phased_allele_1 = ifelse(\n",
    "                missing == \"1\" & allele1 != allele2,\n",
    "                ifelse(strsplit(as.character(known_1), \":\")[[1]][1] == strsplit(as.character(allele1), \":\")[[1]][1], known_1, phased_allele_1),\n",
    "                phased_allele_1\n",
    "            ),\n",
    "            #reset the missing variable\n",
    "            missing = ifelse(phased_allele_1 == 0 & phased_allele_2 == 0, \"1\", \"0\"),\n",
    "            #check if allele 1 matches first field of known2\n",
    "            phased_allele_1 = ifelse(\n",
    "                missing == \"1\" & allele1 != allele2,\n",
    "                ifelse(strsplit(as.character(known_2), \":\")[[1]][1] == strsplit(as.character(allele1), \":\")[[1]][1], known_2, phased_allele_1),\n",
    "                phased_allele_1\n",
    "            ),\n",
    "            missing = ifelse(phased_allele_1 == 0 & phased_allele_2 == 0, \"1\", \"0\"),\n",
    "            #check if allele 2 matches first field of known1\n",
    "            phased_allele_2 = ifelse(\n",
    "                missing == \"1\" & allele1 != allele2,\n",
    "                ifelse(strsplit(as.character(known_1), \":\")[[1]][1] == strsplit(as.character(allele2), \":\")[[1]][1], known_1, phased_allele_2),\n",
    "                phased_allele_2\n",
    "            ),\n",
    "            missing = ifelse(phased_allele_1 == 0 & phased_allele_2 == 0, \"1\", \"0\"),\n",
    "            #check if allele 2 matches first field of known2\n",
    "            phased_allele_2 = ifelse(\n",
    "                missing == \"1\" & allele1 != allele2,\n",
    "                ifelse(strsplit(as.character(known_2), \":\")[[1]][1] == strsplit(as.character(allele2), \":\")[[1]][1], known_2, phased_allele_2),\n",
    "                phased_allele_2\n",
    "            )\n",
    "        ) %>%\n",
    "        ungroup() # Ungroup after mutation\n",
    "    \n",
    "    return(df)\n",
    "}\n",
    "\n",
    "\n",
    "hap_data_frames <- list(A_haps, B_haps, C_haps, DPB1_haps, DQA1_haps, DQB1_haps, DRB1_haps)\n",
    "\n",
    "# Apply check_missing_haps to each data frame\n",
    "checked_haps <- lapply(hap_data_frames, check_missing_haps)\n",
    "# List of data frames to apply the function to\n",
    "hap_data_frames <- list(A_haps, B_haps, C_haps, DPB1_haps, DQA1_haps, DQB1_haps, DRB1_haps)\n",
    "\n",
    "# Apply check_missing_haps to each data frame\n",
    "checked_haps <- lapply(hap_data_frames, check_missing_haps)\n",
    "\n",
    "# Optionally, assign the results back to the original variable names\n",
    "list2env(setNames(checked_haps, c(\"A_haps\", \"B_haps\", \"C_haps\", \"DPB1_haps\", \"DQA1_haps\", \"DQB1_haps\", \"DRB1_haps\")), envir = .GlobalEnv)\n",
    "\n",
    "\n",
    "DQB1_haps[DQB1_haps$phased_allele_1 == 0 | DQB1_haps$phased_allele_2 == 0,]\n"
   ]
  },
  {
   "cell_type": "code",
   "execution_count": 42,
   "id": "cbd0bee1-b15a-494e-a980-014fbabc73a4",
   "metadata": {},
   "outputs": [
    {
     "data": {
      "text/plain": [
       "<environment: R_GlobalEnv>"
      ]
     },
     "metadata": {},
     "output_type": "display_data"
    },
    {
     "data": {
      "text/html": [
       "<table class=\"dataframe\">\n",
       "<caption>A tibble: 0 × 11</caption>\n",
       "<thead>\n",
       "\t<tr><th scope=col>sample.id</th><th scope=col>allele1</th><th scope=col>allele2</th><th scope=col>known_1</th><th scope=col>known_2</th><th scope=col>match_flag_1</th><th scope=col>match_flag_2</th><th scope=col>no_match</th><th scope=col>phased_allele_1</th><th scope=col>phased_allele_2</th><th scope=col>missing</th></tr>\n",
       "\t<tr><th scope=col>&lt;chr&gt;</th><th scope=col>&lt;chr&gt;</th><th scope=col>&lt;chr&gt;</th><th scope=col>&lt;chr&gt;</th><th scope=col>&lt;chr&gt;</th><th scope=col>&lt;dbl&gt;</th><th scope=col>&lt;dbl&gt;</th><th scope=col>&lt;dbl&gt;</th><th scope=col>&lt;chr&gt;</th><th scope=col>&lt;chr&gt;</th><th scope=col>&lt;chr&gt;</th></tr>\n",
       "</thead>\n",
       "<tbody>\n",
       "</tbody>\n",
       "</table>\n"
      ],
      "text/latex": [
       "A tibble: 0 × 11\n",
       "\\begin{tabular}{lllllllllll}\n",
       " sample.id & allele1 & allele2 & known\\_1 & known\\_2 & match\\_flag\\_1 & match\\_flag\\_2 & no\\_match & phased\\_allele\\_1 & phased\\_allele\\_2 & missing\\\\\n",
       " <chr> & <chr> & <chr> & <chr> & <chr> & <dbl> & <dbl> & <dbl> & <chr> & <chr> & <chr>\\\\\n",
       "\\hline\n",
       "\\end{tabular}\n"
      ],
      "text/markdown": [
       "\n",
       "A tibble: 0 × 11\n",
       "\n",
       "| sample.id &lt;chr&gt; | allele1 &lt;chr&gt; | allele2 &lt;chr&gt; | known_1 &lt;chr&gt; | known_2 &lt;chr&gt; | match_flag_1 &lt;dbl&gt; | match_flag_2 &lt;dbl&gt; | no_match &lt;dbl&gt; | phased_allele_1 &lt;chr&gt; | phased_allele_2 &lt;chr&gt; | missing &lt;chr&gt; |\n",
       "|---|---|---|---|---|---|---|---|---|---|---|\n",
       "\n"
      ],
      "text/plain": [
       "     sample.id allele1 allele2 known_1 known_2 match_flag_1 match_flag_2\n",
       "     no_match phased_allele_1 phased_allele_2 missing"
      ]
     },
     "metadata": {},
     "output_type": "display_data"
    },
    {
     "data": {
      "text/html": [
       "<table class=\"dataframe\">\n",
       "<caption>A tibble: 2 × 11</caption>\n",
       "<thead>\n",
       "\t<tr><th scope=col>sample.id</th><th scope=col>allele1</th><th scope=col>allele2</th><th scope=col>known_1</th><th scope=col>known_2</th><th scope=col>match_flag_1</th><th scope=col>match_flag_2</th><th scope=col>no_match</th><th scope=col>phased_allele_1</th><th scope=col>phased_allele_2</th><th scope=col>missing</th></tr>\n",
       "\t<tr><th scope=col>&lt;chr&gt;</th><th scope=col>&lt;chr&gt;</th><th scope=col>&lt;chr&gt;</th><th scope=col>&lt;chr&gt;</th><th scope=col>&lt;chr&gt;</th><th scope=col>&lt;dbl&gt;</th><th scope=col>&lt;dbl&gt;</th><th scope=col>&lt;dbl&gt;</th><th scope=col>&lt;chr&gt;</th><th scope=col>&lt;chr&gt;</th><th scope=col>&lt;chr&gt;</th></tr>\n",
       "</thead>\n",
       "<tbody>\n",
       "\t<tr><td>3033</td><td>41:01</td><td>41:01</td><td>07:02</td><td>47:01</td><td>0</td><td>0</td><td>1</td><td>0</td><td>0</td><td>1</td></tr>\n",
       "\t<tr><td>424 </td><td>81:01</td><td>41:01</td><td>14:01</td><td>35:01</td><td>0</td><td>0</td><td>1</td><td>0</td><td>0</td><td>1</td></tr>\n",
       "</tbody>\n",
       "</table>\n"
      ],
      "text/latex": [
       "A tibble: 2 × 11\n",
       "\\begin{tabular}{lllllllllll}\n",
       " sample.id & allele1 & allele2 & known\\_1 & known\\_2 & match\\_flag\\_1 & match\\_flag\\_2 & no\\_match & phased\\_allele\\_1 & phased\\_allele\\_2 & missing\\\\\n",
       " <chr> & <chr> & <chr> & <chr> & <chr> & <dbl> & <dbl> & <dbl> & <chr> & <chr> & <chr>\\\\\n",
       "\\hline\n",
       "\t 3033 & 41:01 & 41:01 & 07:02 & 47:01 & 0 & 0 & 1 & 0 & 0 & 1\\\\\n",
       "\t 424  & 81:01 & 41:01 & 14:01 & 35:01 & 0 & 0 & 1 & 0 & 0 & 1\\\\\n",
       "\\end{tabular}\n"
      ],
      "text/markdown": [
       "\n",
       "A tibble: 2 × 11\n",
       "\n",
       "| sample.id &lt;chr&gt; | allele1 &lt;chr&gt; | allele2 &lt;chr&gt; | known_1 &lt;chr&gt; | known_2 &lt;chr&gt; | match_flag_1 &lt;dbl&gt; | match_flag_2 &lt;dbl&gt; | no_match &lt;dbl&gt; | phased_allele_1 &lt;chr&gt; | phased_allele_2 &lt;chr&gt; | missing &lt;chr&gt; |\n",
       "|---|---|---|---|---|---|---|---|---|---|---|\n",
       "| 3033 | 41:01 | 41:01 | 07:02 | 47:01 | 0 | 0 | 1 | 0 | 0 | 1 |\n",
       "| 424  | 81:01 | 41:01 | 14:01 | 35:01 | 0 | 0 | 1 | 0 | 0 | 1 |\n",
       "\n"
      ],
      "text/plain": [
       "  sample.id allele1 allele2 known_1 known_2 match_flag_1 match_flag_2 no_match\n",
       "1 3033      41:01   41:01   07:02   47:01   0            0            1       \n",
       "2 424       81:01   41:01   14:01   35:01   0            0            1       \n",
       "  phased_allele_1 phased_allele_2 missing\n",
       "1 0               0               1      \n",
       "2 0               0               1      "
      ]
     },
     "metadata": {},
     "output_type": "display_data"
    },
    {
     "data": {
      "text/html": [
       "<table class=\"dataframe\">\n",
       "<caption>A tibble: 1 × 11</caption>\n",
       "<thead>\n",
       "\t<tr><th scope=col>sample.id</th><th scope=col>allele1</th><th scope=col>allele2</th><th scope=col>known_1</th><th scope=col>known_2</th><th scope=col>match_flag_1</th><th scope=col>match_flag_2</th><th scope=col>no_match</th><th scope=col>phased_allele_1</th><th scope=col>phased_allele_2</th><th scope=col>missing</th></tr>\n",
       "\t<tr><th scope=col>&lt;chr&gt;</th><th scope=col>&lt;chr&gt;</th><th scope=col>&lt;chr&gt;</th><th scope=col>&lt;chr&gt;</th><th scope=col>&lt;chr&gt;</th><th scope=col>&lt;dbl&gt;</th><th scope=col>&lt;dbl&gt;</th><th scope=col>&lt;dbl&gt;</th><th scope=col>&lt;chr&gt;</th><th scope=col>&lt;chr&gt;</th><th scope=col>&lt;chr&gt;</th></tr>\n",
       "</thead>\n",
       "<tbody>\n",
       "\t<tr><td>3033</td><td>08:02</td><td>08:02</td><td>07:02</td><td>07:01</td><td>0</td><td>0</td><td>1</td><td>0</td><td>0</td><td>1</td></tr>\n",
       "</tbody>\n",
       "</table>\n"
      ],
      "text/latex": [
       "A tibble: 1 × 11\n",
       "\\begin{tabular}{lllllllllll}\n",
       " sample.id & allele1 & allele2 & known\\_1 & known\\_2 & match\\_flag\\_1 & match\\_flag\\_2 & no\\_match & phased\\_allele\\_1 & phased\\_allele\\_2 & missing\\\\\n",
       " <chr> & <chr> & <chr> & <chr> & <chr> & <dbl> & <dbl> & <dbl> & <chr> & <chr> & <chr>\\\\\n",
       "\\hline\n",
       "\t 3033 & 08:02 & 08:02 & 07:02 & 07:01 & 0 & 0 & 1 & 0 & 0 & 1\\\\\n",
       "\\end{tabular}\n"
      ],
      "text/markdown": [
       "\n",
       "A tibble: 1 × 11\n",
       "\n",
       "| sample.id &lt;chr&gt; | allele1 &lt;chr&gt; | allele2 &lt;chr&gt; | known_1 &lt;chr&gt; | known_2 &lt;chr&gt; | match_flag_1 &lt;dbl&gt; | match_flag_2 &lt;dbl&gt; | no_match &lt;dbl&gt; | phased_allele_1 &lt;chr&gt; | phased_allele_2 &lt;chr&gt; | missing &lt;chr&gt; |\n",
       "|---|---|---|---|---|---|---|---|---|---|---|\n",
       "| 3033 | 08:02 | 08:02 | 07:02 | 07:01 | 0 | 0 | 1 | 0 | 0 | 1 |\n",
       "\n"
      ],
      "text/plain": [
       "  sample.id allele1 allele2 known_1 known_2 match_flag_1 match_flag_2 no_match\n",
       "1 3033      08:02   08:02   07:02   07:01   0            0            1       \n",
       "  phased_allele_1 phased_allele_2 missing\n",
       "1 0               0               1      "
      ]
     },
     "metadata": {},
     "output_type": "display_data"
    },
    {
     "data": {
      "text/html": [
       "<table class=\"dataframe\">\n",
       "<caption>A tibble: 0 × 11</caption>\n",
       "<thead>\n",
       "\t<tr><th scope=col>sample.id</th><th scope=col>allele1</th><th scope=col>allele2</th><th scope=col>known_1</th><th scope=col>known_2</th><th scope=col>match_flag_1</th><th scope=col>match_flag_2</th><th scope=col>no_match</th><th scope=col>phased_allele_1</th><th scope=col>phased_allele_2</th><th scope=col>missing</th></tr>\n",
       "\t<tr><th scope=col>&lt;chr&gt;</th><th scope=col>&lt;chr&gt;</th><th scope=col>&lt;chr&gt;</th><th scope=col>&lt;chr&gt;</th><th scope=col>&lt;chr&gt;</th><th scope=col>&lt;dbl&gt;</th><th scope=col>&lt;dbl&gt;</th><th scope=col>&lt;dbl&gt;</th><th scope=col>&lt;chr&gt;</th><th scope=col>&lt;chr&gt;</th><th scope=col>&lt;chr&gt;</th></tr>\n",
       "</thead>\n",
       "<tbody>\n",
       "</tbody>\n",
       "</table>\n"
      ],
      "text/latex": [
       "A tibble: 0 × 11\n",
       "\\begin{tabular}{lllllllllll}\n",
       " sample.id & allele1 & allele2 & known\\_1 & known\\_2 & match\\_flag\\_1 & match\\_flag\\_2 & no\\_match & phased\\_allele\\_1 & phased\\_allele\\_2 & missing\\\\\n",
       " <chr> & <chr> & <chr> & <chr> & <chr> & <dbl> & <dbl> & <dbl> & <chr> & <chr> & <chr>\\\\\n",
       "\\hline\n",
       "\\end{tabular}\n"
      ],
      "text/markdown": [
       "\n",
       "A tibble: 0 × 11\n",
       "\n",
       "| sample.id &lt;chr&gt; | allele1 &lt;chr&gt; | allele2 &lt;chr&gt; | known_1 &lt;chr&gt; | known_2 &lt;chr&gt; | match_flag_1 &lt;dbl&gt; | match_flag_2 &lt;dbl&gt; | no_match &lt;dbl&gt; | phased_allele_1 &lt;chr&gt; | phased_allele_2 &lt;chr&gt; | missing &lt;chr&gt; |\n",
       "|---|---|---|---|---|---|---|---|---|---|---|\n",
       "\n"
      ],
      "text/plain": [
       "     sample.id allele1 allele2 known_1 known_2 match_flag_1 match_flag_2\n",
       "     no_match phased_allele_1 phased_allele_2 missing"
      ]
     },
     "metadata": {},
     "output_type": "display_data"
    },
    {
     "data": {
      "text/html": [
       "<table class=\"dataframe\">\n",
       "<caption>A tibble: 0 × 11</caption>\n",
       "<thead>\n",
       "\t<tr><th scope=col>sample.id</th><th scope=col>allele1</th><th scope=col>allele2</th><th scope=col>known_1</th><th scope=col>known_2</th><th scope=col>match_flag_1</th><th scope=col>match_flag_2</th><th scope=col>no_match</th><th scope=col>phased_allele_1</th><th scope=col>phased_allele_2</th><th scope=col>missing</th></tr>\n",
       "\t<tr><th scope=col>&lt;chr&gt;</th><th scope=col>&lt;chr&gt;</th><th scope=col>&lt;chr&gt;</th><th scope=col>&lt;chr&gt;</th><th scope=col>&lt;chr&gt;</th><th scope=col>&lt;dbl&gt;</th><th scope=col>&lt;dbl&gt;</th><th scope=col>&lt;dbl&gt;</th><th scope=col>&lt;chr&gt;</th><th scope=col>&lt;chr&gt;</th><th scope=col>&lt;chr&gt;</th></tr>\n",
       "</thead>\n",
       "<tbody>\n",
       "</tbody>\n",
       "</table>\n"
      ],
      "text/latex": [
       "A tibble: 0 × 11\n",
       "\\begin{tabular}{lllllllllll}\n",
       " sample.id & allele1 & allele2 & known\\_1 & known\\_2 & match\\_flag\\_1 & match\\_flag\\_2 & no\\_match & phased\\_allele\\_1 & phased\\_allele\\_2 & missing\\\\\n",
       " <chr> & <chr> & <chr> & <chr> & <chr> & <dbl> & <dbl> & <dbl> & <chr> & <chr> & <chr>\\\\\n",
       "\\hline\n",
       "\\end{tabular}\n"
      ],
      "text/markdown": [
       "\n",
       "A tibble: 0 × 11\n",
       "\n",
       "| sample.id &lt;chr&gt; | allele1 &lt;chr&gt; | allele2 &lt;chr&gt; | known_1 &lt;chr&gt; | known_2 &lt;chr&gt; | match_flag_1 &lt;dbl&gt; | match_flag_2 &lt;dbl&gt; | no_match &lt;dbl&gt; | phased_allele_1 &lt;chr&gt; | phased_allele_2 &lt;chr&gt; | missing &lt;chr&gt; |\n",
       "|---|---|---|---|---|---|---|---|---|---|---|\n",
       "\n"
      ],
      "text/plain": [
       "     sample.id allele1 allele2 known_1 known_2 match_flag_1 match_flag_2\n",
       "     no_match phased_allele_1 phased_allele_2 missing"
      ]
     },
     "metadata": {},
     "output_type": "display_data"
    },
    {
     "data": {
      "text/html": [
       "<table class=\"dataframe\">\n",
       "<caption>A tibble: 0 × 11</caption>\n",
       "<thead>\n",
       "\t<tr><th scope=col>sample.id</th><th scope=col>allele1</th><th scope=col>allele2</th><th scope=col>known_1</th><th scope=col>known_2</th><th scope=col>match_flag_1</th><th scope=col>match_flag_2</th><th scope=col>no_match</th><th scope=col>phased_allele_1</th><th scope=col>phased_allele_2</th><th scope=col>missing</th></tr>\n",
       "\t<tr><th scope=col>&lt;chr&gt;</th><th scope=col>&lt;chr&gt;</th><th scope=col>&lt;chr&gt;</th><th scope=col>&lt;chr&gt;</th><th scope=col>&lt;chr&gt;</th><th scope=col>&lt;dbl&gt;</th><th scope=col>&lt;dbl&gt;</th><th scope=col>&lt;dbl&gt;</th><th scope=col>&lt;chr&gt;</th><th scope=col>&lt;chr&gt;</th><th scope=col>&lt;chr&gt;</th></tr>\n",
       "</thead>\n",
       "<tbody>\n",
       "</tbody>\n",
       "</table>\n"
      ],
      "text/latex": [
       "A tibble: 0 × 11\n",
       "\\begin{tabular}{lllllllllll}\n",
       " sample.id & allele1 & allele2 & known\\_1 & known\\_2 & match\\_flag\\_1 & match\\_flag\\_2 & no\\_match & phased\\_allele\\_1 & phased\\_allele\\_2 & missing\\\\\n",
       " <chr> & <chr> & <chr> & <chr> & <chr> & <dbl> & <dbl> & <dbl> & <chr> & <chr> & <chr>\\\\\n",
       "\\hline\n",
       "\\end{tabular}\n"
      ],
      "text/markdown": [
       "\n",
       "A tibble: 0 × 11\n",
       "\n",
       "| sample.id &lt;chr&gt; | allele1 &lt;chr&gt; | allele2 &lt;chr&gt; | known_1 &lt;chr&gt; | known_2 &lt;chr&gt; | match_flag_1 &lt;dbl&gt; | match_flag_2 &lt;dbl&gt; | no_match &lt;dbl&gt; | phased_allele_1 &lt;chr&gt; | phased_allele_2 &lt;chr&gt; | missing &lt;chr&gt; |\n",
       "|---|---|---|---|---|---|---|---|---|---|---|\n",
       "\n"
      ],
      "text/plain": [
       "     sample.id allele1 allele2 known_1 known_2 match_flag_1 match_flag_2\n",
       "     no_match phased_allele_1 phased_allele_2 missing"
      ]
     },
     "metadata": {},
     "output_type": "display_data"
    },
    {
     "data": {
      "text/html": [
       "<table class=\"dataframe\">\n",
       "<caption>A tibble: 1 × 11</caption>\n",
       "<thead>\n",
       "\t<tr><th scope=col>sample.id</th><th scope=col>allele1</th><th scope=col>allele2</th><th scope=col>known_1</th><th scope=col>known_2</th><th scope=col>match_flag_1</th><th scope=col>match_flag_2</th><th scope=col>no_match</th><th scope=col>phased_allele_1</th><th scope=col>phased_allele_2</th><th scope=col>missing</th></tr>\n",
       "\t<tr><th scope=col>&lt;chr&gt;</th><th scope=col>&lt;chr&gt;</th><th scope=col>&lt;chr&gt;</th><th scope=col>&lt;chr&gt;</th><th scope=col>&lt;chr&gt;</th><th scope=col>&lt;dbl&gt;</th><th scope=col>&lt;dbl&gt;</th><th scope=col>&lt;dbl&gt;</th><th scope=col>&lt;chr&gt;</th><th scope=col>&lt;chr&gt;</th><th scope=col>&lt;chr&gt;</th></tr>\n",
       "</thead>\n",
       "<tbody>\n",
       "\t<tr><td>3033</td><td>08:04</td><td>11:01</td><td>13:03</td><td>15:03</td><td>0</td><td>0</td><td>1</td><td>0</td><td>0</td><td>1</td></tr>\n",
       "</tbody>\n",
       "</table>\n"
      ],
      "text/latex": [
       "A tibble: 1 × 11\n",
       "\\begin{tabular}{lllllllllll}\n",
       " sample.id & allele1 & allele2 & known\\_1 & known\\_2 & match\\_flag\\_1 & match\\_flag\\_2 & no\\_match & phased\\_allele\\_1 & phased\\_allele\\_2 & missing\\\\\n",
       " <chr> & <chr> & <chr> & <chr> & <chr> & <dbl> & <dbl> & <dbl> & <chr> & <chr> & <chr>\\\\\n",
       "\\hline\n",
       "\t 3033 & 08:04 & 11:01 & 13:03 & 15:03 & 0 & 0 & 1 & 0 & 0 & 1\\\\\n",
       "\\end{tabular}\n"
      ],
      "text/markdown": [
       "\n",
       "A tibble: 1 × 11\n",
       "\n",
       "| sample.id &lt;chr&gt; | allele1 &lt;chr&gt; | allele2 &lt;chr&gt; | known_1 &lt;chr&gt; | known_2 &lt;chr&gt; | match_flag_1 &lt;dbl&gt; | match_flag_2 &lt;dbl&gt; | no_match &lt;dbl&gt; | phased_allele_1 &lt;chr&gt; | phased_allele_2 &lt;chr&gt; | missing &lt;chr&gt; |\n",
       "|---|---|---|---|---|---|---|---|---|---|---|\n",
       "| 3033 | 08:04 | 11:01 | 13:03 | 15:03 | 0 | 0 | 1 | 0 | 0 | 1 |\n",
       "\n"
      ],
      "text/plain": [
       "  sample.id allele1 allele2 known_1 known_2 match_flag_1 match_flag_2 no_match\n",
       "1 3033      08:04   11:01   13:03   15:03   0            0            1       \n",
       "  phased_allele_1 phased_allele_2 missing\n",
       "1 0               0               1      "
      ]
     },
     "metadata": {},
     "output_type": "display_data"
    }
   ],
   "source": [
    "# do the first function again to fill in the second allele for those found with the first field matching step ^\n",
    "finalize_haps <- function(df) {\n",
    "    # Check each row using dplyr's rowwise\n",
    "    df <- df %>%\n",
    "        rowwise() %>%\n",
    "        mutate(\n",
    "            # If phased_allele_1 is 0 but phased_allele_2 is not, then assign phased1 as the other known that isn't phased2\n",
    "            phased_allele_1 = ifelse(phased_allele_1 == 0 & phased_allele_2 != 0,\n",
    "                                      ifelse(phased_allele_2 == known_1, known_2,\n",
    "                                             ifelse(phased_allele_2 == known_2, known_1, phased_allele_1)),\n",
    "                                      phased_allele_1),\n",
    "\n",
    "            # If phased_allele_2 is 0 but phased_allele_1 is not, then assign phased2 as the other known that isn't phased1\n",
    "            phased_allele_2 = ifelse(phased_allele_2 == 0 & phased_allele_1 != 0,\n",
    "                                      ifelse(phased_allele_1 == known_1, known_2,\n",
    "                                             ifelse(phased_allele_1 == known_2, known_1, phased_allele_2)),\n",
    "                                      phased_allele_2),\n",
    "\n",
    "            # If both phased alleles are 0\n",
    "            phased_allele_1 = ifelse(known_1 == known_2,\n",
    "                                      known_1, phased_allele_1),\n",
    "            phased_allele_2 = ifelse(known_1 == known_2,\n",
    "                                      known_1, phased_allele_2)\n",
    "        ) %>%\n",
    "        ungroup() # Ungroup after mutation\n",
    "    \n",
    "    return(df)\n",
    "}\n",
    "\n",
    "# List of data frames to apply the function to\n",
    "hap_data_frames <- list(A_haps, B_haps, C_haps, DPB1_haps, DQA1_haps, DQB1_haps, DRB1_haps)\n",
    "\n",
    "# Apply finalize_haps to each data frame\n",
    "finalized_haps <- lapply(hap_data_frames, finalize_haps)\n",
    "\n",
    "# Optionally, assign the results back to the original variable names\n",
    "list2env(setNames(finalized_haps, c(\"A_haps\", \"B_haps\", \"C_haps\", \"DPB1_haps\", \"DQA1_haps\", \"DQB1_haps\", \"DRB1_haps\")), envir = .GlobalEnv)\n",
    "\n",
    "\n",
    "A_haps[A_haps$phased_allele_1 == 0 | A_haps$phased_allele_2 == 0,]\n",
    "B_haps[B_haps$phased_allele_1 == 0 | B_haps$phased_allele_2 == 0,]\n",
    "C_haps[C_haps$phased_allele_1 == 0 | C_haps$phased_allele_2 == 0,]\n",
    "DPB1_haps[DPB1_haps$phased_allele_1 == 0 | DPB1_haps$phased_allele_2 == 0,]\n",
    "DQA1_haps[DQA1_haps$phased_allele_1 == 0 | DQA1_haps$phased_allele_2 == 0,]\n",
    "DQB1_haps[DQB1_haps$phased_allele_1 == 0 | DQB1_haps$phased_allele_2 == 0,]\n",
    "DRB1_haps[DRB1_haps$phased_allele_1 == 0 | DRB1_haps$phased_allele_2 == 0,]\n"
   ]
  },
  {
   "cell_type": "code",
   "execution_count": 43,
   "id": "9b68a21f-f5a7-446a-a4aa-96ea7748d301",
   "metadata": {},
   "outputs": [
    {
     "data": {
      "text/plain": [
       "<environment: R_GlobalEnv>"
      ]
     },
     "metadata": {},
     "output_type": "display_data"
    },
    {
     "data": {
      "text/plain": [
       "\n",
       "  0   1 \n",
       "359   2 "
      ]
     },
     "metadata": {},
     "output_type": "display_data"
    },
    {
     "data": {
      "text/plain": [
       "\n",
       "  0   1 \n",
       "354   7 "
      ]
     },
     "metadata": {},
     "output_type": "display_data"
    },
    {
     "data": {
      "text/plain": [
       "\n",
       "  0   1 \n",
       "359   2 "
      ]
     },
     "metadata": {},
     "output_type": "display_data"
    },
    {
     "data": {
      "text/plain": [
       "\n",
       "  0 \n",
       "361 "
      ]
     },
     "metadata": {},
     "output_type": "display_data"
    },
    {
     "data": {
      "text/plain": [
       "\n",
       "  0   1 \n",
       "358   3 "
      ]
     },
     "metadata": {},
     "output_type": "display_data"
    },
    {
     "data": {
      "text/plain": [
       "\n",
       "  0   1 \n",
       "358   3 "
      ]
     },
     "metadata": {},
     "output_type": "display_data"
    },
    {
     "data": {
      "text/plain": [
       "\n",
       "  0   1 \n",
       "357   4 "
      ]
     },
     "metadata": {},
     "output_type": "display_data"
    }
   ],
   "source": [
    "#function makes sure that if the predicted alleles are the same but known genotypes are different then we cannot know the phase\n",
    "check_haps <- function(df) {\n",
    "    df <- df %>%\n",
    "        rowwise() %>%\n",
    "        mutate(\n",
    "            phased_allele_1 = ifelse(allele1 == allele2 & known_1 != known_2, \n",
    "                                     as.character(0), \n",
    "                                     as.character(phased_allele_1)),\n",
    "            phased_allele_2 = ifelse(allele1 == allele2 & known_1 != known_2, \n",
    "                                     as.character(0), \n",
    "                                     as.character(phased_allele_2))\n",
    "        ) %>%\n",
    "        ungroup() # Ungroup after mutation\n",
    "    \n",
    "    return(df)\n",
    "}\n",
    "\n",
    "# List of data frames to apply the function to\n",
    "hap_data_frames <- list(A_haps, B_haps, C_haps, DPB1_haps, DQA1_haps, DQB1_haps, DRB1_haps)\n",
    "\n",
    "# Apply check_haps to each data frame\n",
    "finalized_haps <- lapply(hap_data_frames, check_haps)\n",
    "\n",
    "# Assign the results back to the original variable names\n",
    "list2env(setNames(finalized_haps, c(\"A_haps\", \"B_haps\", \"C_haps\", \"DPB1_haps\", \"DQA1_haps\", \"DQB1_haps\", \"DRB1_haps\")), envir = .GlobalEnv)\n",
    "\n",
    "A_haps$missing <- 0\n",
    "B_haps$missing <- 0\n",
    "C_haps$missing <- 0\n",
    "DPB1_haps$missing <- 0\n",
    "DQA1_haps$missing <- 0\n",
    "DQB1_haps$missing <- 0\n",
    "DRB1_haps$missing <- 0\n",
    "\n",
    "A_haps[A_haps$phased_allele_1 == 0 | A_haps$phased_allele_2 == 0, \"missing\" ] <- 1\n",
    "B_haps[B_haps$phased_allele_1 == 0 | B_haps$phased_allele_2 == 0,\"missing\" ] <- 1\n",
    "C_haps[C_haps$phased_allele_1 == 0 | C_haps$phased_allele_2 == 0,\"missing\" ] <- 1\n",
    "DPB1_haps[DPB1_haps$phased_allele_1 == 0 | DPB1_haps$phased_allele_2 == 0,\"missing\" ] <- 1\n",
    "DQA1_haps[DQA1_haps$phased_allele_1 == 0 | DQA1_haps$phased_allele_2 == 0,\"missing\" ] <- 1\n",
    "DQB1_haps[DQB1_haps$phased_allele_1 == 0 | DQB1_haps$phased_allele_2 == 0,\"missing\" ] <- 1\n",
    "DRB1_haps[DRB1_haps$phased_allele_1 == 0 | DRB1_haps$phased_allele_2 == 0,\"missing\" ] <- 1\n",
    "\n",
    "table(A_haps$missing)\n",
    "table(B_haps$missing)\n",
    "table(C_haps$missing)\n",
    "table(DPB1_haps$missing)\n",
    "table(DQA1_haps$missing)\n",
    "table(DQB1_haps$missing)\n",
    "table(DRB1_haps$missing)\n"
   ]
  },
  {
   "cell_type": "code",
   "execution_count": 44,
   "id": "0ae8a3c7-c4d2-4573-8bf9-1281796a0c33",
   "metadata": {},
   "outputs": [
    {
     "data": {
      "text/html": [
       "<table class=\"dataframe\">\n",
       "<caption>A tibble: 6 × 15</caption>\n",
       "<thead>\n",
       "\t<tr><th scope=col>sample.id</th><th scope=col>A_phased_allele_1</th><th scope=col>A_phased_allele_2</th><th scope=col>B_phased_allele_1</th><th scope=col>B_phased_allele_2</th><th scope=col>C_phased_allele_1</th><th scope=col>C_phased_allele_2</th><th scope=col>DPB1_phased_allele_1</th><th scope=col>DPB1_phased_allele_2</th><th scope=col>DQB1_phased_allele_1</th><th scope=col>DQB1_phased_allele_2</th><th scope=col>DQA1_phased_allele_1</th><th scope=col>DQA1_phased_allele_2</th><th scope=col>DRB1_phased_allele_1</th><th scope=col>DRB1_phased_allele_2</th></tr>\n",
       "\t<tr><th scope=col>&lt;chr&gt;</th><th scope=col>&lt;chr&gt;</th><th scope=col>&lt;chr&gt;</th><th scope=col>&lt;chr&gt;</th><th scope=col>&lt;chr&gt;</th><th scope=col>&lt;chr&gt;</th><th scope=col>&lt;chr&gt;</th><th scope=col>&lt;chr&gt;</th><th scope=col>&lt;chr&gt;</th><th scope=col>&lt;chr&gt;</th><th scope=col>&lt;chr&gt;</th><th scope=col>&lt;chr&gt;</th><th scope=col>&lt;chr&gt;</th><th scope=col>&lt;chr&gt;</th><th scope=col>&lt;chr&gt;</th></tr>\n",
       "</thead>\n",
       "<tbody>\n",
       "\t<tr><td>1</td><td>33:03</td><td>26:01</td><td>81:01</td><td>41:02</td><td>08:04</td><td>17:01</td><td>01:01</td><td>03:01</td><td>06:02</td><td>02:01</td><td>01:02</td><td>03:01</td><td>12:02</td><td>07:01</td></tr>\n",
       "\t<tr><td>3</td><td>30:02</td><td>33:03</td><td>15:10</td><td>81:01</td><td>03:04</td><td>08:04</td><td>01:01</td><td>01:01</td><td>02:01</td><td>06:02</td><td>05:01</td><td>01:02</td><td>03:01</td><td>12:02</td></tr>\n",
       "\t<tr><td>4</td><td>29:02</td><td>30:01</td><td>44:03</td><td>42:01</td><td>04:01</td><td>17:01</td><td>01:01</td><td>01:01</td><td>05:01</td><td>02:01</td><td>01:01</td><td>03:01</td><td>12:01</td><td>09:01</td></tr>\n",
       "\t<tr><td>6</td><td>30:01</td><td>30:01</td><td>42:01</td><td>42:01</td><td>17:01</td><td>17:01</td><td>13:01</td><td>01:01</td><td>04:02</td><td>02:01</td><td>04:01</td><td>03:01</td><td>03:02</td><td>09:01</td></tr>\n",
       "\t<tr><td>8</td><td>30:01</td><td>23:01</td><td>42:01</td><td>15:03</td><td>17:01</td><td>02:02</td><td>01:01</td><td>04:02</td><td>02:01</td><td>06:02</td><td>03:01</td><td>01:02</td><td>09:01</td><td>11:01</td></tr>\n",
       "\t<tr><td>9</td><td>23:01</td><td>23:01</td><td>18:01</td><td>47:01</td><td>02:02</td><td>07:01</td><td>04:02</td><td>01:01</td><td>02:01</td><td>06:02</td><td>02:01</td><td>01:02</td><td>07:01</td><td>11:01</td></tr>\n",
       "</tbody>\n",
       "</table>\n"
      ],
      "text/latex": [
       "A tibble: 6 × 15\n",
       "\\begin{tabular}{lllllllllllllll}\n",
       " sample.id & A\\_phased\\_allele\\_1 & A\\_phased\\_allele\\_2 & B\\_phased\\_allele\\_1 & B\\_phased\\_allele\\_2 & C\\_phased\\_allele\\_1 & C\\_phased\\_allele\\_2 & DPB1\\_phased\\_allele\\_1 & DPB1\\_phased\\_allele\\_2 & DQB1\\_phased\\_allele\\_1 & DQB1\\_phased\\_allele\\_2 & DQA1\\_phased\\_allele\\_1 & DQA1\\_phased\\_allele\\_2 & DRB1\\_phased\\_allele\\_1 & DRB1\\_phased\\_allele\\_2\\\\\n",
       " <chr> & <chr> & <chr> & <chr> & <chr> & <chr> & <chr> & <chr> & <chr> & <chr> & <chr> & <chr> & <chr> & <chr> & <chr>\\\\\n",
       "\\hline\n",
       "\t 1 & 33:03 & 26:01 & 81:01 & 41:02 & 08:04 & 17:01 & 01:01 & 03:01 & 06:02 & 02:01 & 01:02 & 03:01 & 12:02 & 07:01\\\\\n",
       "\t 3 & 30:02 & 33:03 & 15:10 & 81:01 & 03:04 & 08:04 & 01:01 & 01:01 & 02:01 & 06:02 & 05:01 & 01:02 & 03:01 & 12:02\\\\\n",
       "\t 4 & 29:02 & 30:01 & 44:03 & 42:01 & 04:01 & 17:01 & 01:01 & 01:01 & 05:01 & 02:01 & 01:01 & 03:01 & 12:01 & 09:01\\\\\n",
       "\t 6 & 30:01 & 30:01 & 42:01 & 42:01 & 17:01 & 17:01 & 13:01 & 01:01 & 04:02 & 02:01 & 04:01 & 03:01 & 03:02 & 09:01\\\\\n",
       "\t 8 & 30:01 & 23:01 & 42:01 & 15:03 & 17:01 & 02:02 & 01:01 & 04:02 & 02:01 & 06:02 & 03:01 & 01:02 & 09:01 & 11:01\\\\\n",
       "\t 9 & 23:01 & 23:01 & 18:01 & 47:01 & 02:02 & 07:01 & 04:02 & 01:01 & 02:01 & 06:02 & 02:01 & 01:02 & 07:01 & 11:01\\\\\n",
       "\\end{tabular}\n"
      ],
      "text/markdown": [
       "\n",
       "A tibble: 6 × 15\n",
       "\n",
       "| sample.id &lt;chr&gt; | A_phased_allele_1 &lt;chr&gt; | A_phased_allele_2 &lt;chr&gt; | B_phased_allele_1 &lt;chr&gt; | B_phased_allele_2 &lt;chr&gt; | C_phased_allele_1 &lt;chr&gt; | C_phased_allele_2 &lt;chr&gt; | DPB1_phased_allele_1 &lt;chr&gt; | DPB1_phased_allele_2 &lt;chr&gt; | DQB1_phased_allele_1 &lt;chr&gt; | DQB1_phased_allele_2 &lt;chr&gt; | DQA1_phased_allele_1 &lt;chr&gt; | DQA1_phased_allele_2 &lt;chr&gt; | DRB1_phased_allele_1 &lt;chr&gt; | DRB1_phased_allele_2 &lt;chr&gt; |\n",
       "|---|---|---|---|---|---|---|---|---|---|---|---|---|---|---|\n",
       "| 1 | 33:03 | 26:01 | 81:01 | 41:02 | 08:04 | 17:01 | 01:01 | 03:01 | 06:02 | 02:01 | 01:02 | 03:01 | 12:02 | 07:01 |\n",
       "| 3 | 30:02 | 33:03 | 15:10 | 81:01 | 03:04 | 08:04 | 01:01 | 01:01 | 02:01 | 06:02 | 05:01 | 01:02 | 03:01 | 12:02 |\n",
       "| 4 | 29:02 | 30:01 | 44:03 | 42:01 | 04:01 | 17:01 | 01:01 | 01:01 | 05:01 | 02:01 | 01:01 | 03:01 | 12:01 | 09:01 |\n",
       "| 6 | 30:01 | 30:01 | 42:01 | 42:01 | 17:01 | 17:01 | 13:01 | 01:01 | 04:02 | 02:01 | 04:01 | 03:01 | 03:02 | 09:01 |\n",
       "| 8 | 30:01 | 23:01 | 42:01 | 15:03 | 17:01 | 02:02 | 01:01 | 04:02 | 02:01 | 06:02 | 03:01 | 01:02 | 09:01 | 11:01 |\n",
       "| 9 | 23:01 | 23:01 | 18:01 | 47:01 | 02:02 | 07:01 | 04:02 | 01:01 | 02:01 | 06:02 | 02:01 | 01:02 | 07:01 | 11:01 |\n",
       "\n"
      ],
      "text/plain": [
       "  sample.id A_phased_allele_1 A_phased_allele_2 B_phased_allele_1\n",
       "1 1         33:03             26:01             81:01            \n",
       "2 3         30:02             33:03             15:10            \n",
       "3 4         29:02             30:01             44:03            \n",
       "4 6         30:01             30:01             42:01            \n",
       "5 8         30:01             23:01             42:01            \n",
       "6 9         23:01             23:01             18:01            \n",
       "  B_phased_allele_2 C_phased_allele_1 C_phased_allele_2 DPB1_phased_allele_1\n",
       "1 41:02             08:04             17:01             01:01               \n",
       "2 81:01             03:04             08:04             01:01               \n",
       "3 42:01             04:01             17:01             01:01               \n",
       "4 42:01             17:01             17:01             13:01               \n",
       "5 15:03             17:01             02:02             01:01               \n",
       "6 47:01             02:02             07:01             04:02               \n",
       "  DPB1_phased_allele_2 DQB1_phased_allele_1 DQB1_phased_allele_2\n",
       "1 03:01                06:02                02:01               \n",
       "2 01:01                02:01                06:02               \n",
       "3 01:01                05:01                02:01               \n",
       "4 01:01                04:02                02:01               \n",
       "5 04:02                02:01                06:02               \n",
       "6 01:01                02:01                06:02               \n",
       "  DQA1_phased_allele_1 DQA1_phased_allele_2 DRB1_phased_allele_1\n",
       "1 01:02                03:01                12:02               \n",
       "2 05:01                01:02                03:01               \n",
       "3 01:01                03:01                12:01               \n",
       "4 04:01                03:01                03:02               \n",
       "5 03:01                01:02                09:01               \n",
       "6 02:01                01:02                07:01               \n",
       "  DRB1_phased_allele_2\n",
       "1 07:01               \n",
       "2 12:02               \n",
       "3 09:01               \n",
       "4 09:01               \n",
       "5 11:01               \n",
       "6 11:01               "
      ]
     },
     "metadata": {},
     "output_type": "display_data"
    }
   ],
   "source": [
    "A_df <- A_haps %>%\n",
    "  select(sample.id, A_phased_allele_1 = phased_allele_1, A_phased_allele_2 = phased_allele_2)\n",
    "\n",
    "B_df <- B_haps %>%\n",
    "  select(sample.id, B_phased_allele_1 = phased_allele_1, B_phased_allele_2 = phased_allele_2)\n",
    "\n",
    "C_df <- C_haps %>%\n",
    "  select(sample.id, C_phased_allele_1 = phased_allele_1, C_phased_allele_2 = phased_allele_2)\n",
    "\n",
    "DPB1_df <- DPB1_haps %>%\n",
    "  select(sample.id, DPB1_phased_allele_1 = phased_allele_1, DPB1_phased_allele_2 = phased_allele_2)\n",
    "\n",
    "DQB1_df <- DQB1_haps %>%\n",
    "  select(sample.id, DQB1_phased_allele_1 = phased_allele_1, DQB1_phased_allele_2 = phased_allele_2)\n",
    "\n",
    "DQA1_df <- DQA1_haps %>%\n",
    "  select(sample.id, DQA1_phased_allele_1 = phased_allele_1, DQA1_phased_allele_2 = phased_allele_2)\n",
    "\n",
    "DRB1_df <- DRB1_haps %>%\n",
    "  select(sample.id, DRB1_phased_allele_1 = phased_allele_1, DRB1_phased_allele_2 = phased_allele_2)\n",
    "\n",
    "# Merge data frames by sample.ids\n",
    "combined_haps <- A_df %>%\n",
    "  full_join(B_df, by = \"sample.id\") %>%\n",
    "  full_join(C_df, by = \"sample.id\") %>%\n",
    "  full_join(DPB1_df, by = \"sample.id\") %>%\n",
    "  full_join(DQB1_df, by = \"sample.id\") %>%\n",
    "  full_join(DQA1_df, by = \"sample.id\") %>%\n",
    "  full_join(DRB1_df, by = \"sample.id\")\n",
    "\n",
    "head(combined_haps)\n"
   ]
  },
  {
   "cell_type": "code",
   "execution_count": 45,
   "id": "da551fca-bebb-4241-90aa-efa98a7d8069",
   "metadata": {},
   "outputs": [
    {
     "data": {
      "text/plain": [
       "\n",
       "  0   1 \n",
       " 12 349 "
      ]
     },
     "metadata": {},
     "output_type": "display_data"
    },
    {
     "data": {
      "text/plain": [
       "\n",
       "  0   1 \n",
       "  9 352 "
      ]
     },
     "metadata": {},
     "output_type": "display_data"
    },
    {
     "data": {
      "text/plain": [
       "\n",
       "  0   1 \n",
       "  5 356 "
      ]
     },
     "metadata": {},
     "output_type": "display_data"
    }
   ],
   "source": [
    "combined_haps <- combined_haps %>%\n",
    "    rowwise() %>%\n",
    "    mutate(full_hap = ifelse(any(c_across(everything()) == 0), 0, 1)) %>%\n",
    "    ungroup()\n",
    "\n",
    "combined_haps <- combined_haps %>%\n",
    "    rowwise() %>%\n",
    "    mutate(class1_hap = ifelse(any(c_across(2:7) == 0), 0, 1)) %>%\n",
    "    ungroup()\n",
    "\n",
    "combined_haps <- combined_haps %>%\n",
    "    rowwise() %>%\n",
    "    mutate(class2_hap = ifelse(any(c_across(8:15) == 0), 0, 1)) %>%\n",
    "    ungroup()\n",
    "       \n",
    "                      \n",
    "                   \n",
    "table(combined_haps$full_hap)\n",
    "table(combined_haps$class1_hap)\n",
    "table(combined_haps$class2_hap)\n",
    "\n"
   ]
  },
  {
   "cell_type": "code",
   "execution_count": 46,
   "id": "6a0a5526-b7ba-4214-9fc1-cb20e63bee59",
   "metadata": {},
   "outputs": [
    {
     "data": {
      "text/html": [
       "<table class=\"dataframe\">\n",
       "<caption>A tibble: 12 × 18</caption>\n",
       "<thead>\n",
       "\t<tr><th scope=col>sample.id</th><th scope=col>A_phased_allele_1</th><th scope=col>A_phased_allele_2</th><th scope=col>B_phased_allele_1</th><th scope=col>B_phased_allele_2</th><th scope=col>C_phased_allele_1</th><th scope=col>C_phased_allele_2</th><th scope=col>DPB1_phased_allele_1</th><th scope=col>DPB1_phased_allele_2</th><th scope=col>DQB1_phased_allele_1</th><th scope=col>DQB1_phased_allele_2</th><th scope=col>DQA1_phased_allele_1</th><th scope=col>DQA1_phased_allele_2</th><th scope=col>DRB1_phased_allele_1</th><th scope=col>DRB1_phased_allele_2</th><th scope=col>full_hap</th><th scope=col>class1_hap</th><th scope=col>class2_hap</th></tr>\n",
       "\t<tr><th scope=col>&lt;chr&gt;</th><th scope=col>&lt;chr&gt;</th><th scope=col>&lt;chr&gt;</th><th scope=col>&lt;chr&gt;</th><th scope=col>&lt;chr&gt;</th><th scope=col>&lt;chr&gt;</th><th scope=col>&lt;chr&gt;</th><th scope=col>&lt;chr&gt;</th><th scope=col>&lt;chr&gt;</th><th scope=col>&lt;chr&gt;</th><th scope=col>&lt;chr&gt;</th><th scope=col>&lt;chr&gt;</th><th scope=col>&lt;chr&gt;</th><th scope=col>&lt;chr&gt;</th><th scope=col>&lt;chr&gt;</th><th scope=col>&lt;dbl&gt;</th><th scope=col>&lt;dbl&gt;</th><th scope=col>&lt;dbl&gt;</th></tr>\n",
       "</thead>\n",
       "<tbody>\n",
       "\t<tr><td>28  </td><td>0    </td><td>0    </td><td>45:01</td><td>15:10</td><td>06:02</td><td>03:04</td><td>04:02</td><td>04:02</td><td>03:01</td><td>06:02</td><td>05:01</td><td>01:02</td><td>13:03</td><td>11:01</td><td>0</td><td>0</td><td>1</td></tr>\n",
       "\t<tr><td>87  </td><td>30:02</td><td>02:02</td><td>45:01</td><td>15:10</td><td>03:04</td><td>06:02</td><td>04:02</td><td>01:01</td><td>03:01</td><td>02:01</td><td>05:01</td><td>05:01</td><td>0    </td><td>0    </td><td>0</td><td>1</td><td>0</td></tr>\n",
       "\t<tr><td>106 </td><td>68:02</td><td>02:02</td><td>07:02</td><td>15:03</td><td>07:02</td><td>04:01</td><td>03:01</td><td>02:01</td><td>02:01</td><td>06:02</td><td>0    </td><td>0    </td><td>0    </td><td>0    </td><td>0</td><td>1</td><td>0</td></tr>\n",
       "\t<tr><td>125 </td><td>03:01</td><td>68:02</td><td>0    </td><td>0    </td><td>07:04</td><td>07:02</td><td>02:01</td><td>03:01</td><td>06:02</td><td>03:01</td><td>01:02</td><td>05:01</td><td>15:03</td><td>12:01</td><td>0</td><td>0</td><td>1</td></tr>\n",
       "\t<tr><td>992 </td><td>02:05</td><td>30:02</td><td>0    </td><td>0    </td><td>02:02</td><td>16:01</td><td>04:02</td><td>40:01</td><td>02:01</td><td>05:01</td><td>02:01</td><td>01:01</td><td>07:01</td><td>01:01</td><td>0</td><td>0</td><td>1</td></tr>\n",
       "\t<tr><td>2985</td><td>30:02</td><td>23:01</td><td>0    </td><td>0    </td><td>03:04</td><td>06:02</td><td>04:02</td><td>01:01</td><td>06:04</td><td>02:01</td><td>01:02</td><td>05:01</td><td>13:02</td><td>03:01</td><td>0</td><td>0</td><td>1</td></tr>\n",
       "\t<tr><td>2997</td><td>43:01</td><td>74:01</td><td>15:10</td><td>42:01</td><td>03:04</td><td>17:01</td><td>01:01</td><td>04:01</td><td>0    </td><td>0    </td><td>05:01</td><td>01:02</td><td>03:01</td><td>11:01</td><td>0</td><td>1</td><td>0</td></tr>\n",
       "\t<tr><td>3011</td><td>0    </td><td>0    </td><td>08:01</td><td>15:03</td><td>07:01</td><td>02:02</td><td>04:02</td><td>04:02</td><td>02:01</td><td>06:02</td><td>05:01</td><td>01:02</td><td>03:01</td><td>11:01</td><td>0</td><td>0</td><td>1</td></tr>\n",
       "\t<tr><td>3033</td><td>01:01</td><td>23:01</td><td>0    </td><td>0    </td><td>0    </td><td>0    </td><td>40:01</td><td>02:01</td><td>0    </td><td>0    </td><td>0    </td><td>0    </td><td>0    </td><td>0    </td><td>0</td><td>0</td><td>0</td></tr>\n",
       "\t<tr><td>3045</td><td>68:02</td><td>29:01</td><td>0    </td><td>0    </td><td>07:04</td><td>07:02</td><td>02:01</td><td>02:01</td><td>06:02</td><td>06:09</td><td>01:02</td><td>01:02</td><td>15:03</td><td>13:02</td><td>0</td><td>0</td><td>1</td></tr>\n",
       "\t<tr><td>5141</td><td>30:02</td><td>29:01</td><td>0    </td><td>0    </td><td>0    </td><td>0    </td><td>02:01</td><td>01:01</td><td>06:09</td><td>02:01</td><td>01:02</td><td>05:01</td><td>13:02</td><td>03:01</td><td>0</td><td>0</td><td>1</td></tr>\n",
       "\t<tr><td>424 </td><td>30:01</td><td>29:02</td><td>0    </td><td>0    </td><td>04:01</td><td>08:02</td><td>04:02</td><td>18:01</td><td>0    </td><td>0    </td><td>0    </td><td>0    </td><td>0    </td><td>0    </td><td>0</td><td>0</td><td>0</td></tr>\n",
       "</tbody>\n",
       "</table>\n"
      ],
      "text/latex": [
       "A tibble: 12 × 18\n",
       "\\begin{tabular}{llllllllllllllllll}\n",
       " sample.id & A\\_phased\\_allele\\_1 & A\\_phased\\_allele\\_2 & B\\_phased\\_allele\\_1 & B\\_phased\\_allele\\_2 & C\\_phased\\_allele\\_1 & C\\_phased\\_allele\\_2 & DPB1\\_phased\\_allele\\_1 & DPB1\\_phased\\_allele\\_2 & DQB1\\_phased\\_allele\\_1 & DQB1\\_phased\\_allele\\_2 & DQA1\\_phased\\_allele\\_1 & DQA1\\_phased\\_allele\\_2 & DRB1\\_phased\\_allele\\_1 & DRB1\\_phased\\_allele\\_2 & full\\_hap & class1\\_hap & class2\\_hap\\\\\n",
       " <chr> & <chr> & <chr> & <chr> & <chr> & <chr> & <chr> & <chr> & <chr> & <chr> & <chr> & <chr> & <chr> & <chr> & <chr> & <dbl> & <dbl> & <dbl>\\\\\n",
       "\\hline\n",
       "\t 28   & 0     & 0     & 45:01 & 15:10 & 06:02 & 03:04 & 04:02 & 04:02 & 03:01 & 06:02 & 05:01 & 01:02 & 13:03 & 11:01 & 0 & 0 & 1\\\\\n",
       "\t 87   & 30:02 & 02:02 & 45:01 & 15:10 & 03:04 & 06:02 & 04:02 & 01:01 & 03:01 & 02:01 & 05:01 & 05:01 & 0     & 0     & 0 & 1 & 0\\\\\n",
       "\t 106  & 68:02 & 02:02 & 07:02 & 15:03 & 07:02 & 04:01 & 03:01 & 02:01 & 02:01 & 06:02 & 0     & 0     & 0     & 0     & 0 & 1 & 0\\\\\n",
       "\t 125  & 03:01 & 68:02 & 0     & 0     & 07:04 & 07:02 & 02:01 & 03:01 & 06:02 & 03:01 & 01:02 & 05:01 & 15:03 & 12:01 & 0 & 0 & 1\\\\\n",
       "\t 992  & 02:05 & 30:02 & 0     & 0     & 02:02 & 16:01 & 04:02 & 40:01 & 02:01 & 05:01 & 02:01 & 01:01 & 07:01 & 01:01 & 0 & 0 & 1\\\\\n",
       "\t 2985 & 30:02 & 23:01 & 0     & 0     & 03:04 & 06:02 & 04:02 & 01:01 & 06:04 & 02:01 & 01:02 & 05:01 & 13:02 & 03:01 & 0 & 0 & 1\\\\\n",
       "\t 2997 & 43:01 & 74:01 & 15:10 & 42:01 & 03:04 & 17:01 & 01:01 & 04:01 & 0     & 0     & 05:01 & 01:02 & 03:01 & 11:01 & 0 & 1 & 0\\\\\n",
       "\t 3011 & 0     & 0     & 08:01 & 15:03 & 07:01 & 02:02 & 04:02 & 04:02 & 02:01 & 06:02 & 05:01 & 01:02 & 03:01 & 11:01 & 0 & 0 & 1\\\\\n",
       "\t 3033 & 01:01 & 23:01 & 0     & 0     & 0     & 0     & 40:01 & 02:01 & 0     & 0     & 0     & 0     & 0     & 0     & 0 & 0 & 0\\\\\n",
       "\t 3045 & 68:02 & 29:01 & 0     & 0     & 07:04 & 07:02 & 02:01 & 02:01 & 06:02 & 06:09 & 01:02 & 01:02 & 15:03 & 13:02 & 0 & 0 & 1\\\\\n",
       "\t 5141 & 30:02 & 29:01 & 0     & 0     & 0     & 0     & 02:01 & 01:01 & 06:09 & 02:01 & 01:02 & 05:01 & 13:02 & 03:01 & 0 & 0 & 1\\\\\n",
       "\t 424  & 30:01 & 29:02 & 0     & 0     & 04:01 & 08:02 & 04:02 & 18:01 & 0     & 0     & 0     & 0     & 0     & 0     & 0 & 0 & 0\\\\\n",
       "\\end{tabular}\n"
      ],
      "text/markdown": [
       "\n",
       "A tibble: 12 × 18\n",
       "\n",
       "| sample.id &lt;chr&gt; | A_phased_allele_1 &lt;chr&gt; | A_phased_allele_2 &lt;chr&gt; | B_phased_allele_1 &lt;chr&gt; | B_phased_allele_2 &lt;chr&gt; | C_phased_allele_1 &lt;chr&gt; | C_phased_allele_2 &lt;chr&gt; | DPB1_phased_allele_1 &lt;chr&gt; | DPB1_phased_allele_2 &lt;chr&gt; | DQB1_phased_allele_1 &lt;chr&gt; | DQB1_phased_allele_2 &lt;chr&gt; | DQA1_phased_allele_1 &lt;chr&gt; | DQA1_phased_allele_2 &lt;chr&gt; | DRB1_phased_allele_1 &lt;chr&gt; | DRB1_phased_allele_2 &lt;chr&gt; | full_hap &lt;dbl&gt; | class1_hap &lt;dbl&gt; | class2_hap &lt;dbl&gt; |\n",
       "|---|---|---|---|---|---|---|---|---|---|---|---|---|---|---|---|---|---|\n",
       "| 28   | 0     | 0     | 45:01 | 15:10 | 06:02 | 03:04 | 04:02 | 04:02 | 03:01 | 06:02 | 05:01 | 01:02 | 13:03 | 11:01 | 0 | 0 | 1 |\n",
       "| 87   | 30:02 | 02:02 | 45:01 | 15:10 | 03:04 | 06:02 | 04:02 | 01:01 | 03:01 | 02:01 | 05:01 | 05:01 | 0     | 0     | 0 | 1 | 0 |\n",
       "| 106  | 68:02 | 02:02 | 07:02 | 15:03 | 07:02 | 04:01 | 03:01 | 02:01 | 02:01 | 06:02 | 0     | 0     | 0     | 0     | 0 | 1 | 0 |\n",
       "| 125  | 03:01 | 68:02 | 0     | 0     | 07:04 | 07:02 | 02:01 | 03:01 | 06:02 | 03:01 | 01:02 | 05:01 | 15:03 | 12:01 | 0 | 0 | 1 |\n",
       "| 992  | 02:05 | 30:02 | 0     | 0     | 02:02 | 16:01 | 04:02 | 40:01 | 02:01 | 05:01 | 02:01 | 01:01 | 07:01 | 01:01 | 0 | 0 | 1 |\n",
       "| 2985 | 30:02 | 23:01 | 0     | 0     | 03:04 | 06:02 | 04:02 | 01:01 | 06:04 | 02:01 | 01:02 | 05:01 | 13:02 | 03:01 | 0 | 0 | 1 |\n",
       "| 2997 | 43:01 | 74:01 | 15:10 | 42:01 | 03:04 | 17:01 | 01:01 | 04:01 | 0     | 0     | 05:01 | 01:02 | 03:01 | 11:01 | 0 | 1 | 0 |\n",
       "| 3011 | 0     | 0     | 08:01 | 15:03 | 07:01 | 02:02 | 04:02 | 04:02 | 02:01 | 06:02 | 05:01 | 01:02 | 03:01 | 11:01 | 0 | 0 | 1 |\n",
       "| 3033 | 01:01 | 23:01 | 0     | 0     | 0     | 0     | 40:01 | 02:01 | 0     | 0     | 0     | 0     | 0     | 0     | 0 | 0 | 0 |\n",
       "| 3045 | 68:02 | 29:01 | 0     | 0     | 07:04 | 07:02 | 02:01 | 02:01 | 06:02 | 06:09 | 01:02 | 01:02 | 15:03 | 13:02 | 0 | 0 | 1 |\n",
       "| 5141 | 30:02 | 29:01 | 0     | 0     | 0     | 0     | 02:01 | 01:01 | 06:09 | 02:01 | 01:02 | 05:01 | 13:02 | 03:01 | 0 | 0 | 1 |\n",
       "| 424  | 30:01 | 29:02 | 0     | 0     | 04:01 | 08:02 | 04:02 | 18:01 | 0     | 0     | 0     | 0     | 0     | 0     | 0 | 0 | 0 |\n",
       "\n"
      ],
      "text/plain": [
       "   sample.id A_phased_allele_1 A_phased_allele_2 B_phased_allele_1\n",
       "1  28        0                 0                 45:01            \n",
       "2  87        30:02             02:02             45:01            \n",
       "3  106       68:02             02:02             07:02            \n",
       "4  125       03:01             68:02             0                \n",
       "5  992       02:05             30:02             0                \n",
       "6  2985      30:02             23:01             0                \n",
       "7  2997      43:01             74:01             15:10            \n",
       "8  3011      0                 0                 08:01            \n",
       "9  3033      01:01             23:01             0                \n",
       "10 3045      68:02             29:01             0                \n",
       "11 5141      30:02             29:01             0                \n",
       "12 424       30:01             29:02             0                \n",
       "   B_phased_allele_2 C_phased_allele_1 C_phased_allele_2 DPB1_phased_allele_1\n",
       "1  15:10             06:02             03:04             04:02               \n",
       "2  15:10             03:04             06:02             04:02               \n",
       "3  15:03             07:02             04:01             03:01               \n",
       "4  0                 07:04             07:02             02:01               \n",
       "5  0                 02:02             16:01             04:02               \n",
       "6  0                 03:04             06:02             04:02               \n",
       "7  42:01             03:04             17:01             01:01               \n",
       "8  15:03             07:01             02:02             04:02               \n",
       "9  0                 0                 0                 40:01               \n",
       "10 0                 07:04             07:02             02:01               \n",
       "11 0                 0                 0                 02:01               \n",
       "12 0                 04:01             08:02             04:02               \n",
       "   DPB1_phased_allele_2 DQB1_phased_allele_1 DQB1_phased_allele_2\n",
       "1  04:02                03:01                06:02               \n",
       "2  01:01                03:01                02:01               \n",
       "3  02:01                02:01                06:02               \n",
       "4  03:01                06:02                03:01               \n",
       "5  40:01                02:01                05:01               \n",
       "6  01:01                06:04                02:01               \n",
       "7  04:01                0                    0                   \n",
       "8  04:02                02:01                06:02               \n",
       "9  02:01                0                    0                   \n",
       "10 02:01                06:02                06:09               \n",
       "11 01:01                06:09                02:01               \n",
       "12 18:01                0                    0                   \n",
       "   DQA1_phased_allele_1 DQA1_phased_allele_2 DRB1_phased_allele_1\n",
       "1  05:01                01:02                13:03               \n",
       "2  05:01                05:01                0                   \n",
       "3  0                    0                    0                   \n",
       "4  01:02                05:01                15:03               \n",
       "5  02:01                01:01                07:01               \n",
       "6  01:02                05:01                13:02               \n",
       "7  05:01                01:02                03:01               \n",
       "8  05:01                01:02                03:01               \n",
       "9  0                    0                    0                   \n",
       "10 01:02                01:02                15:03               \n",
       "11 01:02                05:01                13:02               \n",
       "12 0                    0                    0                   \n",
       "   DRB1_phased_allele_2 full_hap class1_hap class2_hap\n",
       "1  11:01                0        0          1         \n",
       "2  0                    0        1          0         \n",
       "3  0                    0        1          0         \n",
       "4  12:01                0        0          1         \n",
       "5  01:01                0        0          1         \n",
       "6  03:01                0        0          1         \n",
       "7  11:01                0        1          0         \n",
       "8  11:01                0        0          1         \n",
       "9  0                    0        0          0         \n",
       "10 13:02                0        0          1         \n",
       "11 03:01                0        0          1         \n",
       "12 0                    0        0          0         "
      ]
     },
     "metadata": {},
     "output_type": "display_data"
    },
    {
     "data": {
      "text/html": [
       "361"
      ],
      "text/latex": [
       "361"
      ],
      "text/markdown": [
       "361"
      ],
      "text/plain": [
       "[1] 361"
      ]
     },
     "metadata": {},
     "output_type": "display_data"
    }
   ],
   "source": [
    "combined_haps[combined_haps$full_hap == 0,]  ##resolved all but 24 haps\n",
    "nrow(combined_haps)\n",
    "save(combined_haps, file=\"phased_HLA.RData\")"
   ]
  }
 ],
 "metadata": {
  "kernelspec": {
   "display_name": "Python [conda env:jupyterlab-4] *",
   "language": "python",
   "name": "conda-env-jupyterlab-4-py"
  },
  "language_info": {
   "codemirror_mode": {
    "name": "ipython",
    "version": 3
   },
   "file_extension": ".py",
   "mimetype": "text/x-python",
   "name": "python",
   "nbconvert_exporter": "python",
   "pygments_lexer": "ipython3",
   "version": "3.12.5"
  }
 },
 "nbformat": 4,
 "nbformat_minor": 5
}
