{
 "cells": [
  {
   "cell_type": "code",
   "execution_count": 142,
   "id": "00dabb79-90ed-4369-aa2d-9e7b8bb3bc80",
   "metadata": {},
   "outputs": [
    {
     "name": "stdout",
     "output_type": "stream",
     "text": [
      "\u001b[90m# A tibble: 6 x 3\u001b[39m\n",
      "  actorID partnerID pairID \n",
      "  \u001b[3m\u001b[90m<chr>\u001b[39m\u001b[23m   \u001b[3m\u001b[90m<chr>\u001b[39m\u001b[23m     \u001b[3m\u001b[90m<chr>\u001b[39m\u001b[23m  \n",
      "\u001b[90m1\u001b[39m 770     75        770:75 \n",
      "\u001b[90m2\u001b[39m 3045    75        3045:75\n",
      "\u001b[90m3\u001b[39m 3111    75        3111:75\n",
      "\u001b[90m4\u001b[39m 1078    75        1078:75\n",
      "\u001b[90m5\u001b[39m 3109    75        3109:75\n",
      "\u001b[90m6\u001b[39m 3054    75        3054:75\n"
     ]
    }
   ],
   "source": [
    "load(\"../HLA_IBD_pairs_data.RData\")\n",
    "load(\"../GLMM_model_ready.RData\")\n",
    "##code for creating potential offspring genotypes\n",
    "binding_subset <- age_gap_restrict\n",
    "binding_subset <- binding_subset[, c(2,3,13)]\n",
    "print(head(binding_subset))\n",
    "binding_subset <- head(binding_subset)\n",
    "\n",
    "# Updated child_genos function to return a one-row data frame\n",
    "child_genos <- function(pair, HLA_sheet, locus) {\n",
    "    female <- as.integer(strsplit(pair, split=\":\")[[1]][1])\n",
    "    male <- as.integer(strsplit(pair, split=\":\")[[1]][2])\n",
    "    HLA_sheet <- as.data.frame(HLA_sheet)\n",
    "    full_df <- rbind(HLA_sheet[HLA_sheet$Sample == female, ], HLA_sheet[HLA_sheet$Sample == male, ])\n",
    "    df <- full_df[, grepl(locus, colnames(full_df))]\n",
    "    df <- as.matrix(df)\n",
    "    \n",
    "    genos <- c(df[1, 1], df[2, 1], df[1, 1], df[2, 2], df[1, 2], df[2, 1], df[1, 2], df[2, 2])\n",
    "    \n",
    "    if (locus == \"HLA.DRB1\") {\n",
    "        genos <- sapply(genos, function(geno) {\n",
    "            geno <- gsub(\"P$\", \"\", geno)\n",
    "            geno <- gsub(\":\", \"\", geno)\n",
    "            geno <- gsub(\"DRB1\", \"DRB1_\", geno)\n",
    "            paste0(geno, \"P\")\n",
    "        })\n",
    "    }\n",
    "    \n",
    "    # Return a one-row data frame with the list of genotypes\n",
    "    return(data.frame(genotypes = I(list(unname(genos))), stringsAsFactors = FALSE))\n",
    "}\n",
    "\n",
    "# Updated child_genos_class2 function to return a one-row data frame\n",
    "child_genos_class2 <- function(pair, HLA_sheet, locus) {\n",
    "    female <- as.integer(strsplit(pair, split=\":\")[[1]][1])\n",
    "    male <- as.integer(strsplit(pair, split=\":\")[[1]][2])\n",
    "    HLA_sheet <- as.data.frame(HLA_sheet)\n",
    "    full_df <- rbind(HLA_sheet[HLA_sheet$Sample == female, ], HLA_sheet[HLA_sheet$Sample == male, ])\n",
    "    \n",
    "    df <- if (locus == \"DP\") full_df[, 9:12] else full_df[, 13:16]\n",
    "    df <- as.data.frame(lapply(df, function(x) gsub(\"[:]\", \"\", x)))\n",
    "    df <- as.data.frame(lapply(df, function(x) gsub(\"P$\", \"\", x)))\n",
    "    df <- as.matrix(df)\n",
    "    \n",
    "    mom_gene1 <- df[1, 1:2]\n",
    "    mom_gene2 <- df[1, 3:4]\n",
    "    dad_gene1 <- df[2, 1:2]\n",
    "    dad_gene2 <- df[2, 3:4]\n",
    "    \n",
    "    gene1_combos <- rbind(\n",
    "        c(mom_gene1[1], dad_gene1[1]), c(mom_gene1[1], dad_gene1[2]),\n",
    "        c(mom_gene1[2], dad_gene1[1]), c(mom_gene1[2], dad_gene1[2])\n",
    "    )\n",
    "    gene2_combos <- rbind(\n",
    "        c(mom_gene2[1], dad_gene2[1]), c(mom_gene2[1], dad_gene2[2]),\n",
    "        c(mom_gene2[2], dad_gene2[1]), c(mom_gene2[2], dad_gene2[2])\n",
    "    )\n",
    "    \n",
    "    child_combinations_list <- list()\n",
    "    for (i in 1:nrow(gene1_combos)) {\n",
    "        for (j in 1:nrow(gene2_combos)) {\n",
    "            gene1_combo <- gene1_combos[i, ]\n",
    "            gene2_combo <- gene2_combos[j, ]\n",
    "            new_combo <- c()\n",
    "            for (g1_allele in gene1_combo) {           \n",
    "                for (g2_allele in gene2_combo) {\n",
    "                    combo <- paste0(\"HLA-\", g1_allele, \"-\", g2_allele, \"P\")\n",
    "                    new_combo <- c(new_combo, combo)\n",
    "                }\n",
    "            }\n",
    "            child_combinations_list <- c(child_combinations_list, unname(new_combo))\n",
    "        }\n",
    "    }\n",
    "    \n",
    "    # Return a one-row data frame with the list of combinations\n",
    "    return(data.frame(combinations = I(list(unlist(child_combinations_list))), stringsAsFactors = FALSE))\n",
    "}"
   ]
  },
  {
   "cell_type": "code",
   "execution_count": 144,
   "id": "5b808068-50c9-472d-9cfe-ad2a13193894",
   "metadata": {},
   "outputs": [],
   "source": [
    "library(tibble) \n",
    "\n",
    "# Create lists of child genotypes for each locus\n",
    "A <- do.call(rbind, lapply(1:nrow(binding_subset), function(i) {\n",
    "  child_genos(pair = as.character(binding_subset[i, 3]), HLA_sheet = Final_sheet, locus = \"HLA.A\")\n",
    "}))\n",
    "\n",
    "B <- do.call(rbind, lapply(1:nrow(binding_subset), function(i) {\n",
    "  child_genos(pair = as.character(binding_subset[i, 3]), HLA_sheet = Final_sheet, locus = \"HLA.B\")\n",
    "}))\n",
    "\n",
    "C <- do.call(rbind, lapply(1:nrow(binding_subset), function(i) {\n",
    "  child_genos(pair = as.character(binding_subset[i, 3]), HLA_sheet = Final_sheet, locus = \"HLA.C\")\n",
    "}))\n",
    "\n",
    "# For binding_class2\n",
    "DP <- do.call(rbind, lapply(1:nrow(binding_subset), function(i) {\n",
    "  child_genos_class2(pair = as.character(binding_subset[i, 3]), HLA_sheet = Final_sheet, locus = \"DP\")\n",
    "}))\n",
    "\n",
    "DQ <- do.call(rbind, lapply(1:nrow(binding_subset), function(i) {\n",
    "  child_genos_class2(pair = as.character(binding_subset[i, 3]), HLA_sheet = Final_sheet, locus = \"DQ\")\n",
    "}))\n",
    "\n",
    "DRB1 <- do.call(rbind, lapply(1:nrow(binding_subset), function(i) {\n",
    "  child_genos(pair = as.character(binding_subset[i, 3]), HLA_sheet = Final_sheet, locus = \"HLA.DRB1\")\n",
    "}))\n",
    "\n",
    "# Combine the new data frames into binding_subset\n",
    "binding_subset <- cbind(binding_subset, A, B, C, DP, DQ, DRB1)\n",
    "\n",
    "\n",
    "\n",
    "\n",
    "save(binding_subset, file=\"child_genos.RData\")                               \n"
   ]
  },
  {
   "cell_type": "code",
   "execution_count": 5,
   "id": "67cade9f-58eb-4a4d-987a-1058a0c3bcaa",
   "metadata": {},
   "outputs": [
    {
     "data": {
      "text/html": [
       "'binding_subset'"
      ],
      "text/latex": [
       "'binding\\_subset'"
      ],
      "text/markdown": [
       "'binding_subset'"
      ],
      "text/plain": [
       "[1] \"binding_subset\""
      ]
     },
     "metadata": {},
     "output_type": "display_data"
    }
   ],
   "source": [
    "rm(list=ls())\n",
    "load(\"class1_binding.RData\")\n",
    "ls()"
   ]
  },
  {
   "cell_type": "code",
   "execution_count": 6,
   "id": "e560421b-1f1f-45d6-976f-ae81c5aae61f",
   "metadata": {},
   "outputs": [
    {
     "data": {
      "text/html": [
       "<table class=\"dataframe\">\n",
       "<caption>A data.frame: 6 × 30</caption>\n",
       "<thead>\n",
       "\t<tr><th></th><th scope=col>actorID</th><th scope=col>partnerID</th><th scope=col>pairID</th><th scope=col>genotypes</th><th scope=col>genotypes.1</th><th scope=col>genotypes.2</th><th scope=col>all_SB_A</th><th scope=col>all_SB_B</th><th scope=col>all_SB_C</th><th scope=col>all_WSB_A</th><th scope=col>⋯</th><th scope=col>ex_SB_C</th><th scope=col>ex_WSB_A</th><th scope=col>ex_WSB_B</th><th scope=col>ex_WSB_C</th><th scope=col>int_ex_SB_A</th><th scope=col>int_ex_SB_B</th><th scope=col>int_ex_SB_C</th><th scope=col>int_ex_WSB_A</th><th scope=col>int_ex_WSB_B</th><th scope=col>int_ex_WSB_C</th></tr>\n",
       "\t<tr><th></th><th scope=col>&lt;chr&gt;</th><th scope=col>&lt;chr&gt;</th><th scope=col>&lt;chr&gt;</th><th scope=col>&lt;I&lt;list&gt;&gt;</th><th scope=col>&lt;I&lt;list&gt;&gt;</th><th scope=col>&lt;I&lt;list&gt;&gt;</th><th scope=col>&lt;list&gt;</th><th scope=col>&lt;list&gt;</th><th scope=col>&lt;list&gt;</th><th scope=col>&lt;list&gt;</th><th scope=col>⋯</th><th scope=col>&lt;list&gt;</th><th scope=col>&lt;list&gt;</th><th scope=col>&lt;list&gt;</th><th scope=col>&lt;list&gt;</th><th scope=col>&lt;list&gt;</th><th scope=col>&lt;list&gt;</th><th scope=col>&lt;list&gt;</th><th scope=col>&lt;list&gt;</th><th scope=col>&lt;list&gt;</th><th scope=col>&lt;list&gt;</th></tr>\n",
       "</thead>\n",
       "<tbody>\n",
       "\t<tr><th scope=row>1</th><td>2977</td><td>3031</td><td>2977:3031</td><td>A03:01P,....</td><td>B15:10P,....</td><td>C03:04P,....</td><td>3837, 3101, 3729, 3389</td><td>4278, 3944, 4310, 3059</td><td>4748, 5984, 5396, 4013</td><td>12122, 9484, 10911, 10459</td><td>⋯</td><td>543, 609, 623, 442</td><td>1607, 1336, 1419, 1390</td><td>1277, 1512, 1429, 1314</td><td>1602, 1842, 1839, 1402</td><td>1335, 1056, 1298, 1143</td><td>1001, 1238, 1153, 1089</td><td>1277, 1663, 1546, 1184</td><td>3970, 3105, 3476, 3240</td><td>3590, 4425, 4029, 3825</td><td>3827, 4657, 4608, 3676</td></tr>\n",
       "\t<tr><th scope=row>2</th><td>134 </td><td>3031</td><td>134:3031 </td><td>A03:01P,....</td><td>B45:01P,....</td><td>C07:01P,....</td><td>3837, 3101, 2994, 2434</td><td>4033, 3258, 3096, 3233</td><td>5396, 4013, 4151, 5791</td><td>12122, 9484, 9170, 7142</td><td>⋯</td><td>623, 442, 503, 649</td><td>1607, 1336, 1225, 1003</td><td>1138, 1144, 1001, 1314</td><td>1839, 1402, 1495, 1858</td><td>1335, 1056, 1036, 827</td><td>987, 1108, 608, 963</td><td>1546, 1184, 1153, 1648</td><td>3970, 3105, 2913, 2254</td><td>3300, 3369, 2434, 3544</td><td>4608, 3676, 3500, 4538</td></tr>\n",
       "\t<tr><th scope=row>3</th><td>2985</td><td>3031</td><td>2985:3031</td><td>A23:01P,....</td><td>B15:10P,....</td><td>C03:04P,....</td><td>3729, 3389, 2994, 2434</td><td>4278, 3944, 3096, 3233</td><td>4748, 5984, 5550, 4564</td><td>10911, 10459, 9170, 7142</td><td>⋯</td><td>543, 609, 653, 490</td><td>1419, 1390, 1225, 1003</td><td>1277, 1512, 1001, 1314</td><td>1602, 1842, 1878, 1576</td><td>1298, 1143, 1036, 827</td><td>1001, 1238, 608, 963</td><td>1277, 1663, 1586, 1347</td><td>3476, 3240, 2913, 2254</td><td>3590, 4425, 2434, 3544</td><td>3827, 4657, 4742, 4150</td></tr>\n",
       "\t<tr><th scope=row>4</th><td>610 </td><td>3031</td><td>610:3031 </td><td>A29:02P,....</td><td>B15:03P,....</td><td>C02:02P,....</td><td>3269, 2584, 2994, 2434</td><td>4402, 3769, 4278, 3944</td><td>3177, 5844, 4748, 5984</td><td>9622, 7544, 9170, 7142</td><td>⋯</td><td>412, 697, 543, 609</td><td>1275, 1025, 1225, 1003</td><td>1509, 1556, 1277, 1512</td><td>1283, 1917, 1602, 1842</td><td>1138, 890, 1036, 827</td><td>1136, 1289, 1001, 1238</td><td>916, 1738, 1277, 1663</td><td>3104, 2410, 2913, 2254</td><td>3859, 4195, 3590, 4425</td><td>3001, 4727, 3827, 4657</td></tr>\n",
       "\t<tr><th scope=row>5</th><td>3013</td><td>3031</td><td>3013:3031</td><td>A29:02P,....</td><td>B14:01P,....</td><td>C08:02P,....</td><td>3269, 2584, 2994, 2434</td><td>4586, 4414, 4033, 3258</td><td>4755, 4928, 4151, 5791</td><td>9622, 7544, 9170, 7142</td><td>⋯</td><td>606, 563, 503, 649</td><td>1275, 1025, 1225, 1003</td><td>1327, 1638, 1138, 1144</td><td>1729, 1688, 1495, 1858</td><td>1138, 890, 1036, 827</td><td>1104, 1377, 987, 1108</td><td>1398, 1502, 1153, 1648</td><td>3104, 2410, 2913, 2254</td><td>3764, 4870, 3300, 3369</td><td>4178, 4426, 3500, 4538</td></tr>\n",
       "\t<tr><th scope=row>6</th><td>3131</td><td>3031</td><td>3131:3031</td><td>A03:01P,....</td><td>B53:01P,....</td><td>C07:01P,....</td><td>3837, 3101, 3729, 3389</td><td>3096, 3233, 2405, 3507</td><td>5396, 4013, 5239, 4602</td><td>12122, 9484, 10911, 10459</td><td>⋯</td><td>623, 442, 638, 514</td><td>1607, 1336, 1419, 1390</td><td>1001, 1314, 761, 1383</td><td>1839, 1402, 1949, 1570</td><td>1335, 1056, 1298, 1143</td><td>608, 963, 431, 947</td><td>1546, 1184, 1572, 1418</td><td>3970, 3105, 3476, 3240</td><td>2434, 3544, 1977, 3893</td><td>4608, 3676, 4734, 4103</td></tr>\n",
       "</tbody>\n",
       "</table>\n"
      ],
      "text/latex": [
       "A data.frame: 6 × 30\n",
       "\\begin{tabular}{r|lllllllllllllllllllll}\n",
       "  & actorID & partnerID & pairID & genotypes & genotypes.1 & genotypes.2 & all\\_SB\\_A & all\\_SB\\_B & all\\_SB\\_C & all\\_WSB\\_A & ⋯ & ex\\_SB\\_C & ex\\_WSB\\_A & ex\\_WSB\\_B & ex\\_WSB\\_C & int\\_ex\\_SB\\_A & int\\_ex\\_SB\\_B & int\\_ex\\_SB\\_C & int\\_ex\\_WSB\\_A & int\\_ex\\_WSB\\_B & int\\_ex\\_WSB\\_C\\\\\n",
       "  & <chr> & <chr> & <chr> & <I<list>> & <I<list>> & <I<list>> & <list> & <list> & <list> & <list> & ⋯ & <list> & <list> & <list> & <list> & <list> & <list> & <list> & <list> & <list> & <list>\\\\\n",
       "\\hline\n",
       "\t1 & 2977 & 3031 & 2977:3031 & A03:01P,.... & B15:10P,.... & C03:04P,.... & 3837, 3101, 3729, 3389 & 4278, 3944, 4310, 3059 & 4748, 5984, 5396, 4013 & 12122, 9484, 10911, 10459 & ⋯ & 543, 609, 623, 442 & 1607, 1336, 1419, 1390 & 1277, 1512, 1429, 1314 & 1602, 1842, 1839, 1402 & 1335, 1056, 1298, 1143 & 1001, 1238, 1153, 1089 & 1277, 1663, 1546, 1184 & 3970, 3105, 3476, 3240 & 3590, 4425, 4029, 3825 & 3827, 4657, 4608, 3676\\\\\n",
       "\t2 & 134  & 3031 & 134:3031  & A03:01P,.... & B45:01P,.... & C07:01P,.... & 3837, 3101, 2994, 2434 & 4033, 3258, 3096, 3233 & 5396, 4013, 4151, 5791 & 12122, 9484, 9170, 7142 & ⋯ & 623, 442, 503, 649 & 1607, 1336, 1225, 1003 & 1138, 1144, 1001, 1314 & 1839, 1402, 1495, 1858 & 1335, 1056, 1036, 827 & 987, 1108, 608, 963 & 1546, 1184, 1153, 1648 & 3970, 3105, 2913, 2254 & 3300, 3369, 2434, 3544 & 4608, 3676, 3500, 4538\\\\\n",
       "\t3 & 2985 & 3031 & 2985:3031 & A23:01P,.... & B15:10P,.... & C03:04P,.... & 3729, 3389, 2994, 2434 & 4278, 3944, 3096, 3233 & 4748, 5984, 5550, 4564 & 10911, 10459, 9170, 7142 & ⋯ & 543, 609, 653, 490 & 1419, 1390, 1225, 1003 & 1277, 1512, 1001, 1314 & 1602, 1842, 1878, 1576 & 1298, 1143, 1036, 827 & 1001, 1238, 608, 963 & 1277, 1663, 1586, 1347 & 3476, 3240, 2913, 2254 & 3590, 4425, 2434, 3544 & 3827, 4657, 4742, 4150\\\\\n",
       "\t4 & 610  & 3031 & 610:3031  & A29:02P,.... & B15:03P,.... & C02:02P,.... & 3269, 2584, 2994, 2434 & 4402, 3769, 4278, 3944 & 3177, 5844, 4748, 5984 & 9622, 7544, 9170, 7142 & ⋯ & 412, 697, 543, 609 & 1275, 1025, 1225, 1003 & 1509, 1556, 1277, 1512 & 1283, 1917, 1602, 1842 & 1138, 890, 1036, 827 & 1136, 1289, 1001, 1238 & 916, 1738, 1277, 1663 & 3104, 2410, 2913, 2254 & 3859, 4195, 3590, 4425 & 3001, 4727, 3827, 4657\\\\\n",
       "\t5 & 3013 & 3031 & 3013:3031 & A29:02P,.... & B14:01P,.... & C08:02P,.... & 3269, 2584, 2994, 2434 & 4586, 4414, 4033, 3258 & 4755, 4928, 4151, 5791 & 9622, 7544, 9170, 7142 & ⋯ & 606, 563, 503, 649 & 1275, 1025, 1225, 1003 & 1327, 1638, 1138, 1144 & 1729, 1688, 1495, 1858 & 1138, 890, 1036, 827 & 1104, 1377, 987, 1108 & 1398, 1502, 1153, 1648 & 3104, 2410, 2913, 2254 & 3764, 4870, 3300, 3369 & 4178, 4426, 3500, 4538\\\\\n",
       "\t6 & 3131 & 3031 & 3131:3031 & A03:01P,.... & B53:01P,.... & C07:01P,.... & 3837, 3101, 3729, 3389 & 3096, 3233, 2405, 3507 & 5396, 4013, 5239, 4602 & 12122, 9484, 10911, 10459 & ⋯ & 623, 442, 638, 514 & 1607, 1336, 1419, 1390 & 1001, 1314, 761, 1383 & 1839, 1402, 1949, 1570 & 1335, 1056, 1298, 1143 & 608, 963, 431, 947 & 1546, 1184, 1572, 1418 & 3970, 3105, 3476, 3240 & 2434, 3544, 1977, 3893 & 4608, 3676, 4734, 4103\\\\\n",
       "\\end{tabular}\n"
      ],
      "text/markdown": [
       "\n",
       "A data.frame: 6 × 30\n",
       "\n",
       "| <!--/--> | actorID &lt;chr&gt; | partnerID &lt;chr&gt; | pairID &lt;chr&gt; | genotypes &lt;I&lt;list&gt;&gt; | genotypes.1 &lt;I&lt;list&gt;&gt; | genotypes.2 &lt;I&lt;list&gt;&gt; | all_SB_A &lt;list&gt; | all_SB_B &lt;list&gt; | all_SB_C &lt;list&gt; | all_WSB_A &lt;list&gt; | ⋯ ⋯ | ex_SB_C &lt;list&gt; | ex_WSB_A &lt;list&gt; | ex_WSB_B &lt;list&gt; | ex_WSB_C &lt;list&gt; | int_ex_SB_A &lt;list&gt; | int_ex_SB_B &lt;list&gt; | int_ex_SB_C &lt;list&gt; | int_ex_WSB_A &lt;list&gt; | int_ex_WSB_B &lt;list&gt; | int_ex_WSB_C &lt;list&gt; |\n",
       "|---|---|---|---|---|---|---|---|---|---|---|---|---|---|---|---|---|---|---|---|---|---|\n",
       "| 1 | 2977 | 3031 | 2977:3031 | A03:01P,.... | B15:10P,.... | C03:04P,.... | 3837, 3101, 3729, 3389 | 4278, 3944, 4310, 3059 | 4748, 5984, 5396, 4013 | 12122, 9484, 10911, 10459 | ⋯ | 543, 609, 623, 442 | 1607, 1336, 1419, 1390 | 1277, 1512, 1429, 1314 | 1602, 1842, 1839, 1402 | 1335, 1056, 1298, 1143 | 1001, 1238, 1153, 1089 | 1277, 1663, 1546, 1184 | 3970, 3105, 3476, 3240 | 3590, 4425, 4029, 3825 | 3827, 4657, 4608, 3676 |\n",
       "| 2 | 134  | 3031 | 134:3031  | A03:01P,.... | B45:01P,.... | C07:01P,.... | 3837, 3101, 2994, 2434 | 4033, 3258, 3096, 3233 | 5396, 4013, 4151, 5791 | 12122, 9484, 9170, 7142 | ⋯ | 623, 442, 503, 649 | 1607, 1336, 1225, 1003 | 1138, 1144, 1001, 1314 | 1839, 1402, 1495, 1858 | 1335, 1056, 1036, 827 | 987, 1108, 608, 963 | 1546, 1184, 1153, 1648 | 3970, 3105, 2913, 2254 | 3300, 3369, 2434, 3544 | 4608, 3676, 3500, 4538 |\n",
       "| 3 | 2985 | 3031 | 2985:3031 | A23:01P,.... | B15:10P,.... | C03:04P,.... | 3729, 3389, 2994, 2434 | 4278, 3944, 3096, 3233 | 4748, 5984, 5550, 4564 | 10911, 10459, 9170, 7142 | ⋯ | 543, 609, 653, 490 | 1419, 1390, 1225, 1003 | 1277, 1512, 1001, 1314 | 1602, 1842, 1878, 1576 | 1298, 1143, 1036, 827 | 1001, 1238, 608, 963 | 1277, 1663, 1586, 1347 | 3476, 3240, 2913, 2254 | 3590, 4425, 2434, 3544 | 3827, 4657, 4742, 4150 |\n",
       "| 4 | 610  | 3031 | 610:3031  | A29:02P,.... | B15:03P,.... | C02:02P,.... | 3269, 2584, 2994, 2434 | 4402, 3769, 4278, 3944 | 3177, 5844, 4748, 5984 | 9622, 7544, 9170, 7142 | ⋯ | 412, 697, 543, 609 | 1275, 1025, 1225, 1003 | 1509, 1556, 1277, 1512 | 1283, 1917, 1602, 1842 | 1138, 890, 1036, 827 | 1136, 1289, 1001, 1238 | 916, 1738, 1277, 1663 | 3104, 2410, 2913, 2254 | 3859, 4195, 3590, 4425 | 3001, 4727, 3827, 4657 |\n",
       "| 5 | 3013 | 3031 | 3013:3031 | A29:02P,.... | B14:01P,.... | C08:02P,.... | 3269, 2584, 2994, 2434 | 4586, 4414, 4033, 3258 | 4755, 4928, 4151, 5791 | 9622, 7544, 9170, 7142 | ⋯ | 606, 563, 503, 649 | 1275, 1025, 1225, 1003 | 1327, 1638, 1138, 1144 | 1729, 1688, 1495, 1858 | 1138, 890, 1036, 827 | 1104, 1377, 987, 1108 | 1398, 1502, 1153, 1648 | 3104, 2410, 2913, 2254 | 3764, 4870, 3300, 3369 | 4178, 4426, 3500, 4538 |\n",
       "| 6 | 3131 | 3031 | 3131:3031 | A03:01P,.... | B53:01P,.... | C07:01P,.... | 3837, 3101, 3729, 3389 | 3096, 3233, 2405, 3507 | 5396, 4013, 5239, 4602 | 12122, 9484, 10911, 10459 | ⋯ | 623, 442, 638, 514 | 1607, 1336, 1419, 1390 | 1001, 1314, 761, 1383 | 1839, 1402, 1949, 1570 | 1335, 1056, 1298, 1143 | 608, 963, 431, 947 | 1546, 1184, 1572, 1418 | 3970, 3105, 3476, 3240 | 2434, 3544, 1977, 3893 | 4608, 3676, 4734, 4103 |\n",
       "\n"
      ],
      "text/plain": [
       "  actorID partnerID pairID    genotypes    genotypes.1  genotypes.2 \n",
       "1 2977    3031      2977:3031 A03:01P,.... B15:10P,.... C03:04P,....\n",
       "2 134     3031      134:3031  A03:01P,.... B45:01P,.... C07:01P,....\n",
       "3 2985    3031      2985:3031 A23:01P,.... B15:10P,.... C03:04P,....\n",
       "4 610     3031      610:3031  A29:02P,.... B15:03P,.... C02:02P,....\n",
       "5 3013    3031      3013:3031 A29:02P,.... B14:01P,.... C08:02P,....\n",
       "6 3131    3031      3131:3031 A03:01P,.... B53:01P,.... C07:01P,....\n",
       "  all_SB_A               all_SB_B               all_SB_C              \n",
       "1 3837, 3101, 3729, 3389 4278, 3944, 4310, 3059 4748, 5984, 5396, 4013\n",
       "2 3837, 3101, 2994, 2434 4033, 3258, 3096, 3233 5396, 4013, 4151, 5791\n",
       "3 3729, 3389, 2994, 2434 4278, 3944, 3096, 3233 4748, 5984, 5550, 4564\n",
       "4 3269, 2584, 2994, 2434 4402, 3769, 4278, 3944 3177, 5844, 4748, 5984\n",
       "5 3269, 2584, 2994, 2434 4586, 4414, 4033, 3258 4755, 4928, 4151, 5791\n",
       "6 3837, 3101, 3729, 3389 3096, 3233, 2405, 3507 5396, 4013, 5239, 4602\n",
       "  all_WSB_A                 ⋯ ex_SB_C            ex_WSB_A              \n",
       "1 12122, 9484, 10911, 10459 ⋯ 543, 609, 623, 442 1607, 1336, 1419, 1390\n",
       "2 12122, 9484, 9170, 7142   ⋯ 623, 442, 503, 649 1607, 1336, 1225, 1003\n",
       "3 10911, 10459, 9170, 7142  ⋯ 543, 609, 653, 490 1419, 1390, 1225, 1003\n",
       "4 9622, 7544, 9170, 7142    ⋯ 412, 697, 543, 609 1275, 1025, 1225, 1003\n",
       "5 9622, 7544, 9170, 7142    ⋯ 606, 563, 503, 649 1275, 1025, 1225, 1003\n",
       "6 12122, 9484, 10911, 10459 ⋯ 623, 442, 638, 514 1607, 1336, 1419, 1390\n",
       "  ex_WSB_B               ex_WSB_C               int_ex_SB_A           \n",
       "1 1277, 1512, 1429, 1314 1602, 1842, 1839, 1402 1335, 1056, 1298, 1143\n",
       "2 1138, 1144, 1001, 1314 1839, 1402, 1495, 1858 1335, 1056, 1036, 827 \n",
       "3 1277, 1512, 1001, 1314 1602, 1842, 1878, 1576 1298, 1143, 1036, 827 \n",
       "4 1509, 1556, 1277, 1512 1283, 1917, 1602, 1842 1138, 890, 1036, 827  \n",
       "5 1327, 1638, 1138, 1144 1729, 1688, 1495, 1858 1138, 890, 1036, 827  \n",
       "6 1001, 1314, 761, 1383  1839, 1402, 1949, 1570 1335, 1056, 1298, 1143\n",
       "  int_ex_SB_B            int_ex_SB_C            int_ex_WSB_A          \n",
       "1 1001, 1238, 1153, 1089 1277, 1663, 1546, 1184 3970, 3105, 3476, 3240\n",
       "2 987, 1108, 608, 963    1546, 1184, 1153, 1648 3970, 3105, 2913, 2254\n",
       "3 1001, 1238, 608, 963   1277, 1663, 1586, 1347 3476, 3240, 2913, 2254\n",
       "4 1136, 1289, 1001, 1238 916, 1738, 1277, 1663  3104, 2410, 2913, 2254\n",
       "5 1104, 1377, 987, 1108  1398, 1502, 1153, 1648 3104, 2410, 2913, 2254\n",
       "6 608, 963, 431, 947     1546, 1184, 1572, 1418 3970, 3105, 3476, 3240\n",
       "  int_ex_WSB_B           int_ex_WSB_C          \n",
       "1 3590, 4425, 4029, 3825 3827, 4657, 4608, 3676\n",
       "2 3300, 3369, 2434, 3544 4608, 3676, 3500, 4538\n",
       "3 3590, 4425, 2434, 3544 3827, 4657, 4742, 4150\n",
       "4 3859, 4195, 3590, 4425 3001, 4727, 3827, 4657\n",
       "5 3764, 4870, 3300, 3369 4178, 4426, 3500, 4538\n",
       "6 2434, 3544, 1977, 3893 4608, 3676, 4734, 4103"
      ]
     },
     "metadata": {},
     "output_type": "display_data"
    }
   ],
   "source": [
    "head(binding_subset)"
   ]
  },
  {
   "cell_type": "code",
   "execution_count": null,
   "id": "56321fa9-19c9-4e99-a0ce-705e6633b156",
   "metadata": {},
   "outputs": [],
   "source": []
  }
 ],
 "metadata": {
  "kernelspec": {
   "display_name": "R [conda env:miniconda3-new_jupyter_notebook]",
   "language": "R",
   "name": "conda-env-miniconda3-new_jupyter_notebook-r"
  },
  "language_info": {
   "codemirror_mode": "r",
   "file_extension": ".r",
   "mimetype": "text/x-r-source",
   "name": "R",
   "pygments_lexer": "r",
   "version": "4.3.3"
  }
 },
 "nbformat": 4,
 "nbformat_minor": 5
}
